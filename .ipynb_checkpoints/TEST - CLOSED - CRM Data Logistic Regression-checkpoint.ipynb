{
 "cells": [
  {
   "cell_type": "code",
   "execution_count": 30,
   "metadata": {
    "collapsed": false
   },
   "outputs": [],
   "source": [
    "import pandas as pd\n",
    "import numpy as np"
   ]
  },
  {
   "cell_type": "code",
   "execution_count": 26,
   "metadata": {
    "collapsed": false
   },
   "outputs": [
    {
     "name": "stdout",
     "output_type": "stream",
     "text": [
      "Index(['OpportunityName', 'CreateDate', 'CloseDate', 'Stage', 'StageTypeId',\n",
      "       'StageType', 'WAS_WON', 'WAS_LOST', 'ClientCompany',\n",
      "       'ClientCompanyName', 'FirstDemoDate', 'PresentationDate',\n",
      "       'HourlyRateForImplementationCost', 'EstimatedContractValue',\n",
      "       'CalculatedContractValue', 'CalculatedImplementationCost',\n",
      "       'CalculatedTrainingCost', 'ImplementationHours', 'TrainingHours',\n",
      "       'DaysOnSite', 'FDCHoursLimit', 'ReadOnlyCostLicenseCost',\n",
      "       'FullLicenseCost', 'CRMLicenseCost', 'FDCDeliveryCost',\n",
      "       'FullLicenseCount', 'EnterpriseFee', 'ReadOnlyLicenseCount',\n",
      "       'CRMLicenseCount', 'ForeCastCategory', 'SubmitalTypeId', 'SubmitalType',\n",
      "       'NextAction', 'Notes', 'UserIDs', 'SalesCredit', 'Staff', 'Integration',\n",
      "       'FirmType', 'CurrentlyUsingCompetitor', 'MainCosentialUsage',\n",
      "       'PrimaryCategories', 'FDCConnection', 'FirmSize', 'ReferenceUsed',\n",
      "       'CRMLicenseCost.1'],\n",
      "      dtype='object')\n"
     ]
    }
   ],
   "source": [
    "data = pd.read_csv('data/TEST_CLOSED_Last_100.csv', index_col=0)\n",
    "data.head()\n",
    "print( data.columns )"
   ]
  },
  {
   "cell_type": "code",
   "execution_count": 11,
   "metadata": {
    "collapsed": false
   },
   "outputs": [
    {
     "data": {
      "text/plain": [
       "(100, 46)"
      ]
     },
     "execution_count": 11,
     "metadata": {},
     "output_type": "execute_result"
    }
   ],
   "source": [
    "data.shape"
   ]
  },
  {
   "cell_type": "code",
   "execution_count": null,
   "metadata": {
    "collapsed": false
   },
   "outputs": [],
   "source": []
  },
  {
   "cell_type": "code",
   "execution_count": null,
   "metadata": {
    "collapsed": false
   },
   "outputs": [],
   "source": []
  },
  {
   "cell_type": "code",
   "execution_count": null,
   "metadata": {
    "collapsed": false
   },
   "outputs": [],
   "source": []
  },
  {
   "cell_type": "code",
   "execution_count": null,
   "metadata": {
    "collapsed": false
   },
   "outputs": [],
   "source": []
  },
  {
   "cell_type": "code",
   "execution_count": null,
   "metadata": {
    "collapsed": false
   },
   "outputs": [],
   "source": []
  },
  {
   "cell_type": "code",
   "execution_count": null,
   "metadata": {
    "collapsed": false
   },
   "outputs": [],
   "source": []
  },
  {
   "cell_type": "code",
   "execution_count": null,
   "metadata": {
    "collapsed": false
   },
   "outputs": [],
   "source": []
  },
  {
   "cell_type": "code",
   "execution_count": null,
   "metadata": {
    "collapsed": true
   },
   "outputs": [],
   "source": []
  }
 ],
 "metadata": {
  "kernelspec": {
   "display_name": "Python 3",
   "language": "python",
   "name": "python3"
  },
  "language_info": {
   "codemirror_mode": {
    "name": "ipython",
    "version": 3
   },
   "file_extension": ".py",
   "mimetype": "text/x-python",
   "name": "python",
   "nbconvert_exporter": "python",
   "pygments_lexer": "ipython3",
   "version": "3.5.1"
  }
 },
 "nbformat": 4,
 "nbformat_minor": 0
}
