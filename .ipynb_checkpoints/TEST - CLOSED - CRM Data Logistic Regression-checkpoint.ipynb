{
 "cells": [
  {
   "cell_type": "code",
   "execution_count": 97,
   "metadata": {
    "collapsed": false
   },
   "outputs": [],
   "source": [
    "import pandas as pd\n",
    "import numpy as np"
   ]
  },
  {
   "cell_type": "code",
   "execution_count": 98,
   "metadata": {
    "collapsed": false
   },
   "outputs": [],
   "source": [
    "#opportunities = pd.read_csv('data/TEST_CLOSED_Last_100.csv', index_col=0)\n",
    "opportunities = pd.read_csv('data/export_no_dupes_Last_6_Months_Closed_10k_Limit.csv', index_col=0)\n",
    "opportunities['CreateDate'] = pd.to_datetime(opportunities['CreateDate']) \n",
    "opportunities['CloseDate'] = pd.to_datetime(opportunities['CloseDate'])\n",
    "opportunities['create_date_delta'] = (opportunities['CreateDate'] - opportunities['CreateDate'].min())  / np.timedelta64(1,'D')\n",
    "opportunities['closed_date_delta'] = (opportunities['CreateDate'] - opportunities['CreateDate'].min())  / np.timedelta64(1,'D')\n",
    "\n",
    "opportunities['FirstDemoDate'] = pd.to_datetime(opportunities['FirstDemoDate'])\n",
    "opportunities['PresentationDate'] = pd.to_datetime(opportunities['PresentationDate'])\n",
    "\n",
    "#opportunities['FirstDemoDate_delta'] = (opportunities['FirstDemoDate'] - opportunities['FirstDemoDate'].min())  / np.timedelta64(1,'D')\n",
    "#opportunities['PresentationDate_delta'] = (opportunities['PresentationDate'] - opportunities['PresentationDate'].min())  / np.timedelta64(1,'D')"
   ]
  },
  {
   "cell_type": "code",
   "execution_count": 99,
   "metadata": {
    "collapsed": false
   },
   "outputs": [
    {
     "data": {
      "text/html": [
       "<div>\n",
       "<table border=\"1\" class=\"dataframe\">\n",
       "  <thead>\n",
       "    <tr style=\"text-align: right;\">\n",
       "      <th></th>\n",
       "      <th>OpportunityName</th>\n",
       "      <th>CreateDate</th>\n",
       "      <th>CloseDate</th>\n",
       "      <th>Stage</th>\n",
       "      <th>StageTypeId</th>\n",
       "      <th>StageType</th>\n",
       "      <th>WAS_WON</th>\n",
       "      <th>WAS_LOST</th>\n",
       "      <th>ClientCompany</th>\n",
       "      <th>ClientCompanyName</th>\n",
       "      <th>...</th>\n",
       "      <th>FirmType</th>\n",
       "      <th>CurrentlyUsingCompetitor</th>\n",
       "      <th>MainCosentialUsage</th>\n",
       "      <th>PrimaryCategories</th>\n",
       "      <th>FDCConnection</th>\n",
       "      <th>FirmSize</th>\n",
       "      <th>ReferenceUsed</th>\n",
       "      <th>CRMLicenseCost.1</th>\n",
       "      <th>create_date_delta</th>\n",
       "      <th>closed_date_delta</th>\n",
       "    </tr>\n",
       "    <tr>\n",
       "      <th>leadId</th>\n",
       "      <th></th>\n",
       "      <th></th>\n",
       "      <th></th>\n",
       "      <th></th>\n",
       "      <th></th>\n",
       "      <th></th>\n",
       "      <th></th>\n",
       "      <th></th>\n",
       "      <th></th>\n",
       "      <th></th>\n",
       "      <th></th>\n",
       "      <th></th>\n",
       "      <th></th>\n",
       "      <th></th>\n",
       "      <th></th>\n",
       "      <th></th>\n",
       "      <th></th>\n",
       "      <th></th>\n",
       "      <th></th>\n",
       "      <th></th>\n",
       "      <th></th>\n",
       "    </tr>\n",
       "  </thead>\n",
       "  <tbody>\n",
       "    <tr>\n",
       "      <th>981948</th>\n",
       "      <td>2rw Consultants Upsell</td>\n",
       "      <td>2016-05-26 16:09:10.940</td>\n",
       "      <td>2016-05-28</td>\n",
       "      <td>006-Signed MSA</td>\n",
       "      <td>2</td>\n",
       "      <td>Closed/Won</td>\n",
       "      <td>1</td>\n",
       "      <td>0</td>\n",
       "      <td>1143695</td>\n",
       "      <td>2rw Consultants, Inc.</td>\n",
       "      <td>...</td>\n",
       "      <td>Engineering</td>\n",
       "      <td>Cosential - Current Customer</td>\n",
       "      <td>CRM</td>\n",
       "      <td>NaN</td>\n",
       "      <td>NaN</td>\n",
       "      <td>NaN</td>\n",
       "      <td>NaN</td>\n",
       "      <td>NaN</td>\n",
       "      <td>176.005299</td>\n",
       "      <td>176.005299</td>\n",
       "    </tr>\n",
       "    <tr>\n",
       "      <th>977958</th>\n",
       "      <td>Herrero Builders, Inc. Cosential/Vista by View...</td>\n",
       "      <td>2016-05-18 16:20:59.400</td>\n",
       "      <td>2016-03-21</td>\n",
       "      <td>006-Signed MSA</td>\n",
       "      <td>2</td>\n",
       "      <td>Closed/Won</td>\n",
       "      <td>1</td>\n",
       "      <td>0</td>\n",
       "      <td>1453342</td>\n",
       "      <td>Herrero Builders, Inc.</td>\n",
       "      <td>...</td>\n",
       "      <td>Construction</td>\n",
       "      <td>Cosential - Current Customer,Cosential - Curre...</td>\n",
       "      <td>Marketing Management,Marketing Management,Busi...</td>\n",
       "      <td>Financial Data Connector (FDC)</td>\n",
       "      <td>FDC: Vista by Viewpoint</td>\n",
       "      <td>NaN</td>\n",
       "      <td>NaN</td>\n",
       "      <td>NaN</td>\n",
       "      <td>168.013498</td>\n",
       "      <td>168.013498</td>\n",
       "    </tr>\n",
       "    <tr>\n",
       "      <th>972101</th>\n",
       "      <td>Johnson Carlier Upsell</td>\n",
       "      <td>2016-05-03 10:05:09.280</td>\n",
       "      <td>2016-05-28</td>\n",
       "      <td>006-Signed MSA</td>\n",
       "      <td>2</td>\n",
       "      <td>Closed/Won</td>\n",
       "      <td>1</td>\n",
       "      <td>0</td>\n",
       "      <td>2725568</td>\n",
       "      <td>Johnson Carlier</td>\n",
       "      <td>...</td>\n",
       "      <td>Construction</td>\n",
       "      <td>Cosential - Current Customer</td>\n",
       "      <td>Business Development</td>\n",
       "      <td>NaN</td>\n",
       "      <td>NaN</td>\n",
       "      <td>NaN</td>\n",
       "      <td>NaN</td>\n",
       "      <td>NaN</td>\n",
       "      <td>152.752502</td>\n",
       "      <td>152.752502</td>\n",
       "    </tr>\n",
       "    <tr>\n",
       "      <th>969817</th>\n",
       "      <td>Brinkmann Constructors Upsell</td>\n",
       "      <td>2016-04-27 12:05:36.633</td>\n",
       "      <td>2016-05-28</td>\n",
       "      <td>006-Signed MSA</td>\n",
       "      <td>2</td>\n",
       "      <td>Closed/Won</td>\n",
       "      <td>1</td>\n",
       "      <td>0</td>\n",
       "      <td>2643419</td>\n",
       "      <td>Brinkmann Constructors</td>\n",
       "      <td>...</td>\n",
       "      <td>Construction</td>\n",
       "      <td>Cosential - Current Customer</td>\n",
       "      <td>CRM</td>\n",
       "      <td>NaN</td>\n",
       "      <td>NaN</td>\n",
       "      <td>NaN</td>\n",
       "      <td>NaN</td>\n",
       "      <td>NaN</td>\n",
       "      <td>146.836152</td>\n",
       "      <td>146.836152</td>\n",
       "    </tr>\n",
       "    <tr>\n",
       "      <th>967155</th>\n",
       "      <td>Wieland-Davco Corporation</td>\n",
       "      <td>2016-04-21 09:00:31.073</td>\n",
       "      <td>2016-05-11</td>\n",
       "      <td>006-Signed MSA</td>\n",
       "      <td>2</td>\n",
       "      <td>Closed/Won</td>\n",
       "      <td>1</td>\n",
       "      <td>0</td>\n",
       "      <td>1519437</td>\n",
       "      <td>Wieland</td>\n",
       "      <td>...</td>\n",
       "      <td>Construction</td>\n",
       "      <td>Accounting : Vista by Viewpoint,Accounting : V...</td>\n",
       "      <td>Marketing Management,Marketing Management,Mark...</td>\n",
       "      <td>NaN</td>\n",
       "      <td>NaN</td>\n",
       "      <td>NaN</td>\n",
       "      <td>NaN</td>\n",
       "      <td>NaN</td>\n",
       "      <td>140.707615</td>\n",
       "      <td>140.707615</td>\n",
       "    </tr>\n",
       "  </tbody>\n",
       "</table>\n",
       "<p>5 rows × 48 columns</p>\n",
       "</div>"
      ],
      "text/plain": [
       "                                          OpportunityName  \\\n",
       "leadId                                                      \n",
       "981948                             2rw Consultants Upsell   \n",
       "977958  Herrero Builders, Inc. Cosential/Vista by View...   \n",
       "972101                             Johnson Carlier Upsell   \n",
       "969817                      Brinkmann Constructors Upsell   \n",
       "967155                          Wieland-Davco Corporation   \n",
       "\n",
       "                    CreateDate  CloseDate           Stage  StageTypeId  \\\n",
       "leadId                                                                   \n",
       "981948 2016-05-26 16:09:10.940 2016-05-28  006-Signed MSA            2   \n",
       "977958 2016-05-18 16:20:59.400 2016-03-21  006-Signed MSA            2   \n",
       "972101 2016-05-03 10:05:09.280 2016-05-28  006-Signed MSA            2   \n",
       "969817 2016-04-27 12:05:36.633 2016-05-28  006-Signed MSA            2   \n",
       "967155 2016-04-21 09:00:31.073 2016-05-11  006-Signed MSA            2   \n",
       "\n",
       "         StageType  WAS_WON  WAS_LOST  ClientCompany       ClientCompanyName  \\\n",
       "leadId                                                                         \n",
       "981948  Closed/Won        1         0        1143695   2rw Consultants, Inc.   \n",
       "977958  Closed/Won        1         0        1453342  Herrero Builders, Inc.   \n",
       "972101  Closed/Won        1         0        2725568         Johnson Carlier   \n",
       "969817  Closed/Won        1         0        2643419  Brinkmann Constructors   \n",
       "967155  Closed/Won        1         0        1519437                 Wieland   \n",
       "\n",
       "              ...              FirmType  \\\n",
       "leadId        ...                         \n",
       "981948        ...           Engineering   \n",
       "977958        ...          Construction   \n",
       "972101        ...          Construction   \n",
       "969817        ...          Construction   \n",
       "967155        ...          Construction   \n",
       "\n",
       "                                 CurrentlyUsingCompetitor  \\\n",
       "leadId                                                      \n",
       "981948                       Cosential - Current Customer   \n",
       "977958  Cosential - Current Customer,Cosential - Curre...   \n",
       "972101                       Cosential - Current Customer   \n",
       "969817                       Cosential - Current Customer   \n",
       "967155  Accounting : Vista by Viewpoint,Accounting : V...   \n",
       "\n",
       "                                       MainCosentialUsage  \\\n",
       "leadId                                                      \n",
       "981948                                                CRM   \n",
       "977958  Marketing Management,Marketing Management,Busi...   \n",
       "972101                               Business Development   \n",
       "969817                                                CRM   \n",
       "967155  Marketing Management,Marketing Management,Mark...   \n",
       "\n",
       "                     PrimaryCategories            FDCConnection  FirmSize  \\\n",
       "leadId                                                                      \n",
       "981948                             NaN                      NaN       NaN   \n",
       "977958  Financial Data Connector (FDC)  FDC: Vista by Viewpoint       NaN   \n",
       "972101                             NaN                      NaN       NaN   \n",
       "969817                             NaN                      NaN       NaN   \n",
       "967155                             NaN                      NaN       NaN   \n",
       "\n",
       "        ReferenceUsed  CRMLicenseCost.1  create_date_delta  closed_date_delta  \n",
       "leadId                                                                         \n",
       "981948            NaN               NaN         176.005299         176.005299  \n",
       "977958            NaN               NaN         168.013498         168.013498  \n",
       "972101            NaN               NaN         152.752502         152.752502  \n",
       "969817            NaN               NaN         146.836152         146.836152  \n",
       "967155            NaN               NaN         140.707615         140.707615  \n",
       "\n",
       "[5 rows x 48 columns]"
      ]
     },
     "execution_count": 99,
     "metadata": {},
     "output_type": "execute_result"
    }
   ],
   "source": [
    "opportunities.head()"
   ]
  },
  {
   "cell_type": "code",
   "execution_count": 101,
   "metadata": {
    "collapsed": false
   },
   "outputs": [
    {
     "name": "stdout",
     "output_type": "stream",
     "text": [
      "Index(['OpportunityName', 'CreateDate', 'CloseDate', 'Stage', 'StageTypeId',\n",
      "       'StageType', 'WAS_WON', 'WAS_LOST', 'ClientCompany',\n",
      "       'ClientCompanyName', 'FirstDemoDate', 'PresentationDate',\n",
      "       'HourlyRateForImplementationCost', 'EstimatedContractValue',\n",
      "       'CalculatedContractValue', 'CalculatedImplementationCost',\n",
      "       'CalculatedTrainingCost', 'ImplementationHours', 'TrainingHours',\n",
      "       'DaysOnSite', 'FDCHoursLimit', 'ReadOnlyCostLicenseCost',\n",
      "       'FullLicenseCost', 'CRMLicenseCost', 'FDCDeliveryCost',\n",
      "       'FullLicenseCount', 'EnterpriseFee', 'ReadOnlyLicenseCount',\n",
      "       'CRMLicenseCount', 'ForeCastCategory', 'SubmitalTypeId', 'SubmitalType',\n",
      "       'NextAction', 'Notes', 'UserIDs', 'SalesCredit', 'Staff', 'Integration',\n",
      "       'FirmType', 'CurrentlyUsingCompetitor', 'MainCosentialUsage',\n",
      "       'PrimaryCategories', 'FDCConnection', 'FirmSize', 'ReferenceUsed',\n",
      "       'CRMLicenseCost.1', 'create_date_delta', 'closed_date_delta'],\n",
      "      dtype='object')\n"
     ]
    }
   ],
   "source": [
    "opportunities.shape\n",
    "print( opportunities.columns )"
   ]
  },
  {
   "cell_type": "code",
   "execution_count": 27,
   "metadata": {
    "collapsed": false
   },
   "outputs": [],
   "source": [
    "#opportunities.set_index('leadId', inplace=True)\n",
    "opportunities = opportunities.join(pd.get_dummies(opportunities.FirmType, prefix=\"type_\"))\n",
    "opportunities = opportunities.join(pd.get_dummies(opportunities.Staff, prefix=\"staff_\"))"
   ]
  },
  {
   "cell_type": "code",
   "execution_count": 102,
   "metadata": {
    "collapsed": false
   },
   "outputs": [
    {
     "data": {
      "text/plain": [
       "WAS_WON\n",
       "0    Axes(0.125,0.125;0.775x0.775)\n",
       "1    Axes(0.125,0.125;0.775x0.775)\n",
       "Name: EstimatedContractValue, dtype: object"
      ]
     },
     "execution_count": 102,
     "metadata": {},
     "output_type": "execute_result"
    },
    {
     "data": {
      "image/png": "[encoded data removed]",
      "text/plain": [
       "<matplotlib.figure.Figure at 0x11a6589e8>"
      ]
     },
     "metadata": {},
     "output_type": "display_data"
    }
   ],
   "source": [
    "%matplotlib inline\n",
    "opportunities.groupby('WAS_WON').EstimatedContractValue.hist()"
   ]
  },
  {
   "cell_type": "code",
   "execution_count": 81,
   "metadata": {
    "collapsed": false
   },
   "outputs": [
    {
     "data": {
      "text/plain": [
       "(100, 48)"
      ]
     },
     "execution_count": 81,
     "metadata": {},
     "output_type": "execute_result"
    }
   ],
   "source": [
    "#opportunities.columns\n",
    "opportunities = opportunities[opportunities.create_date_delta.notnull()]\n",
    "#opportunities = opportunities[opportunities.FirstDemoDate_delta.notnull()]\n",
    "#opportunities = opportunities[opportunities.PresentationDate_delta.notnull()]\n",
    "opportunities = opportunities[opportunities.EstimatedContractValue.notnull()]\n",
    "opportunities.shape"
   ]
  },
  {
   "cell_type": "code",
   "execution_count": 103,
   "metadata": {
    "collapsed": false
   },
   "outputs": [],
   "source": [
    "from sklearn import grid_search, cross_validation\n",
    "from sklearn.linear_model import LogisticRegression\n",
    "\n",
    "feature_set = opportunities[['create_date_delta', 'closed_date_delta', 'EstimatedContractValue']]\n",
    "gs = grid_search.GridSearchCV(\n",
    "    estimator=LogisticRegression(),\n",
    "    param_grid={'C': [10**-i for i in range(-5, 5)], 'class_weight': [None, 'balanced']},\n",
    "    cv=cross_validation.KFold(n=len(opportunities), n_folds=3),\n",
    "    scoring='roc_auc'\n",
    ")"
   ]
  },
  {
   "cell_type": "code",
   "execution_count": 104,
   "metadata": {
    "collapsed": false
   },
   "outputs": [
    {
     "data": {
      "text/plain": [
       "[mean: 0.42986, std: 0.10686, params: {'class_weight': None, 'C': 100000},\n",
       " mean: 0.36064, std: 0.07225, params: {'class_weight': 'balanced', 'C': 100000},\n",
       " mean: 0.42986, std: 0.10686, params: {'class_weight': None, 'C': 10000},\n",
       " mean: 0.36064, std: 0.07225, params: {'class_weight': 'balanced', 'C': 10000},\n",
       " mean: 0.42986, std: 0.10686, params: {'class_weight': None, 'C': 1000},\n",
       " mean: 0.36064, std: 0.07225, params: {'class_weight': 'balanced', 'C': 1000},\n",
       " mean: 0.40798, std: 0.09790, params: {'class_weight': None, 'C': 100},\n",
       " mean: 0.36064, std: 0.07225, params: {'class_weight': 'balanced', 'C': 100},\n",
       " mean: 0.42836, std: 0.10367, params: {'class_weight': None, 'C': 10},\n",
       " mean: 0.36918, std: 0.08156, params: {'class_weight': 'balanced', 'C': 10},\n",
       " mean: 0.48690, std: 0.07967, params: {'class_weight': None, 'C': 1},\n",
       " mean: 0.38605, std: 0.12316, params: {'class_weight': 'balanced', 'C': 1},\n",
       " mean: 0.49758, std: 0.09016, params: {'class_weight': None, 'C': 0.1},\n",
       " mean: 0.36480, std: 0.08730, params: {'class_weight': 'balanced', 'C': 0.1},\n",
       " mean: 0.49758, std: 0.09016, params: {'class_weight': None, 'C': 0.01},\n",
       " mean: 0.36525, std: 0.04567, params: {'class_weight': 'balanced', 'C': 0.01},\n",
       " mean: 0.49186, std: 0.09018, params: {'class_weight': None, 'C': 0.001},\n",
       " mean: 0.39156, std: 0.01323, params: {'class_weight': 'balanced', 'C': 0.001},\n",
       " mean: 0.54407, std: 0.05984, params: {'class_weight': None, 'C': 0.0001},\n",
       " mean: 0.38279, std: 0.02245, params: {'class_weight': 'balanced', 'C': 0.0001}]"
      ]
     },
     "execution_count": 104,
     "metadata": {},
     "output_type": "execute_result"
    }
   ],
   "source": [
    "gs.fit(feature_set, opportunities.WAS_WON)\n",
    "gs.grid_scores_"
   ]
  },
  {
   "cell_type": "code",
   "execution_count": 105,
   "metadata": {
    "collapsed": false
   },
   "outputs": [
    {
     "name": "stdout",
     "output_type": "stream",
     "text": [
      "LogisticRegression(C=0.0001, class_weight=None, dual=False,\n",
      "          fit_intercept=True, intercept_scaling=1, max_iter=100,\n",
      "          multi_class='ovr', n_jobs=1, penalty='l2', random_state=None,\n",
      "          solver='liblinear', tol=0.0001, verbose=0, warm_start=False)\n"
     ]
    }
   ],
   "source": [
    "print(gs.best_estimator_)"
   ]
  },
  {
   "cell_type": "code",
   "execution_count": null,
   "metadata": {
    "collapsed": true
   },
   "outputs": [],
   "source": []
  }
 ],
 "metadata": {
  "kernelspec": {
   "display_name": "Python 3",
   "language": "python",
   "name": "python3"
  },
  "language_info": {
   "codemirror_mode": {
    "name": "ipython",
    "version": 3
   },
   "file_extension": ".py",
   "mimetype": "text/x-python",
   "name": "python",
   "nbconvert_exporter": "python",
   "pygments_lexer": "ipython3",
   "version": "3.5.1"
  }
 },
 "nbformat": 4,
 "nbformat_minor": 0
}
