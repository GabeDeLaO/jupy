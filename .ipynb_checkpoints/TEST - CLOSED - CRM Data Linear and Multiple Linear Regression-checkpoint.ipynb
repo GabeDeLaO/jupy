{
 "cells": [
  {
   "cell_type": "code",
   "execution_count": 30,
   "metadata": {
    "collapsed": false
   },
   "outputs": [],
   "source": [
    "import numpy as np\n",
    "import pandas as pd\n",
    "import matplotlib.pyplot as plt\n",
    "%matplotlib inline\n",
    "import statsmodels.formula.api as sm"
   ]
  },
  {
   "cell_type": "code",
   "execution_count": 26,
   "metadata": {
    "collapsed": false
   },
   "outputs": [
    {
     "name": "stdout",
     "output_type": "stream",
     "text": [
      "Index(['OpportunityName', 'CreateDate', 'CloseDate', 'Stage', 'StageTypeId',\n",
      "       'StageType', 'WAS_WON', 'WAS_LOST', 'ClientCompany',\n",
      "       'ClientCompanyName', 'FirstDemoDate', 'PresentationDate',\n",
      "       'HourlyRateForImplementationCost', 'EstimatedContractValue',\n",
      "       'CalculatedContractValue', 'CalculatedImplementationCost',\n",
      "       'CalculatedTrainingCost', 'ImplementationHours', 'TrainingHours',\n",
      "       'DaysOnSite', 'FDCHoursLimit', 'ReadOnlyCostLicenseCost',\n",
      "       'FullLicenseCost', 'CRMLicenseCost', 'FDCDeliveryCost',\n",
      "       'FullLicenseCount', 'EnterpriseFee', 'ReadOnlyLicenseCount',\n",
      "       'CRMLicenseCount', 'ForeCastCategory', 'SubmitalTypeId', 'SubmitalType',\n",
      "       'NextAction', 'Notes', 'UserIDs', 'SalesCredit', 'Staff', 'Integration',\n",
      "       'FirmType', 'CurrentlyUsingCompetitor', 'MainCosentialUsage',\n",
      "       'PrimaryCategories', 'FDCConnection', 'FirmSize', 'ReferenceUsed',\n",
      "       'CRMLicenseCost.1'],\n",
      "      dtype='object')\n"
     ]
    }
   ],
   "source": [
    "data = pd.read_csv('data/TEST_CLOSED_Last_100.csv', index_col=0)\n",
    "data.head()\n",
    "print( data.columns )"
   ]
  },
  {
   "cell_type": "code",
   "execution_count": 11,
   "metadata": {
    "collapsed": false
   },
   "outputs": [
    {
     "data": {
      "text/plain": [
       "(100, 46)"
      ]
     },
     "execution_count": 11,
     "metadata": {},
     "output_type": "execute_result"
    }
   ],
   "source": [
    "data.shape"
   ]
  },
  {
   "cell_type": "code",
   "execution_count": 34,
   "metadata": {
    "collapsed": false
   },
   "outputs": [
    {
     "name": "stdout",
     "output_type": "stream",
     "text": [
      "                              OLS Regression Results                              \n",
      "==================================================================================\n",
      "Dep. Variable:     EstimatedContractValue   R-squared:                       0.038\n",
      "Model:                                OLS   Adj. R-squared:                  0.027\n",
      "Method:                     Least Squares   F-statistic:                     3.513\n",
      "Date:                    Wed, 01 Jun 2016   Prob (F-statistic):             0.0641\n",
      "Time:                            15:37:56   Log-Likelihood:                -918.56\n",
      "No. Observations:                      92   AIC:                             1841.\n",
      "Df Residuals:                          90   BIC:                             1846.\n",
      "Df Model:                               1                                         \n",
      "Covariance Type:                nonrobust                                         \n",
      "=====================================================================================\n",
      "                        coef    std err          t      P>|t|      [95.0% Conf. Int.]\n",
      "-------------------------------------------------------------------------------------\n",
      "Intercept          7470.9771    974.964      7.663      0.000      5534.041  9407.914\n",
      "create_date_delta   -34.4294     18.370     -1.874      0.064       -70.924     2.066\n",
      "==============================================================================\n",
      "Omnibus:                       49.396   Durbin-Watson:                   1.852\n",
      "Prob(Omnibus):                  0.000   Jarque-Bera (JB):              149.483\n",
      "Skew:                           1.876   Prob(JB):                     3.47e-33\n",
      "Kurtosis:                       7.992   Cond. No.                         93.6\n",
      "==============================================================================\n",
      "\n",
      "Warnings:\n",
      "[1] Standard Errors assume that the covariance matrix of the errors is correctly specified.\n"
     ]
    }
   ],
   "source": [
    "# Using the Create Date/ Close Dates as \"Days\" count.\n",
    "df = pd.read_csv('data/TEST_CLOSED_Last_100.csv', index_col=0)\n",
    "df['CreateDate'] = pd.to_datetime(df['CreateDate']) \n",
    "df['CloseDate'] = pd.to_datetime(df['CloseDate']) \n",
    "df['create_date_delta'] = (df['CreateDate'] - df['CreateDate'].min())  / np.timedelta64(1,'D')\n",
    "df['closed_date_delta'] = (df['CreateDate'] - df['CreateDate'].min())  / np.timedelta64(1,'D')\n",
    "the_data = df[df['WAS_WON'] == 1]\n",
    "result = sm.ols(formula = 'EstimatedContractValue ~ create_date_delta', data = the_data).fit()\n",
    "print(result.summary())"
   ]
  },
  {
   "cell_type": "code",
   "execution_count": 20,
   "metadata": {
    "collapsed": false
   },
   "outputs": [
    {
     "data": {
      "text/plain": [
       "<matplotlib.axes._subplots.AxesSubplot at 0x11d4ac438>"
      ]
     },
     "execution_count": 20,
     "metadata": {},
     "output_type": "execute_result"
    },
    {
     "data": {
      "image/png": "[encoded data removed]",
      "text/plain": [
       "<matplotlib.figure.Figure at 0x11d3c2d68>"
      ]
     },
     "metadata": {},
     "output_type": "display_data"
    }
   ],
   "source": [
    "fig, axs = plt.subplots(1,2, sharey=True)\n",
    "data.plot(kind='scatter', x = 'EstimatedContractValue', y='WAS_WON', ax=axs[0], figsize=(16,8))\n",
    "data.plot(kind='scatter', x = 'EstimatedContractValue', y='WAS_LOST', ax=axs[1])\n",
    "#data.plot(kind='scatter', x = 'DeleteRecord', y='StageTypeID', ax=axs[2])"
   ]
  },
  {
   "cell_type": "code",
   "execution_count": 24,
   "metadata": {
    "collapsed": false
   },
   "outputs": [
    {
     "name": "stdout",
     "output_type": "stream",
     "text": [
      "Intercept    3628.611111\n",
      "WAS_WON      3628.611111\n",
      "dtype: float64\n",
      "                              OLS Regression Results                              \n",
      "==================================================================================\n",
      "Dep. Variable:     EstimatedContractValue   R-squared:                      -0.000\n",
      "Model:                                OLS   Adj. R-squared:                 -0.000\n",
      "Method:                     Least Squares   F-statistic:                      -inf\n",
      "Date:                    Wed, 01 Jun 2016   Prob (F-statistic):                nan\n",
      "Time:                            15:33:39   Log-Likelihood:                -82.788\n",
      "No. Observations:                       9   AIC:                             167.6\n",
      "Df Residuals:                           8   BIC:                             167.8\n",
      "Df Model:                               0                                         \n",
      "Covariance Type:                nonrobust                                         \n",
      "==============================================================================\n",
      "                 coef    std err          t      P>|t|      [95.0% Conf. Int.]\n",
      "------------------------------------------------------------------------------\n",
      "Intercept   3628.6111    422.804      8.582      0.000      2653.624  4603.598\n",
      "WAS_WON     3628.6111    422.804      8.582      0.000      2653.624  4603.598\n",
      "==============================================================================\n",
      "Omnibus:                        2.514   Durbin-Watson:                   0.774\n",
      "Prob(Omnibus):                  0.284   Jarque-Bera (JB):                0.911\n",
      "Skew:                          -0.212   Prob(JB):                        0.634\n",
      "Kurtosis:                       1.500   Cond. No.                          inf\n",
      "==============================================================================\n",
      "\n",
      "Warnings:\n",
      "[1] Standard Errors assume that the covariance matrix of the errors is correctly specified.\n",
      "[2] The smallest eigenvalue is      0. This might indicate that there are\n",
      "strong multicollinearity problems or that the design matrix is singular.\n"
     ]
    },
    {
     "name": "stderr",
     "output_type": "stream",
     "text": [
      "/Users/gabrieldelao/anaconda/lib/python3.5/site-packages/scipy/stats/stats.py:1557: UserWarning: kurtosistest only valid for n>=20 ... continuing anyway, n=9\n",
      "  \"anyway, n=%i\" % int(n))\n"
     ]
    }
   ],
   "source": [
    "import statsmodels.formula.api as smf\n",
    "\n",
    "#dummies = pd.get_dummies(data['dtPresentationDate'])\n",
    "new_data = data[pd.notnull(data['PresentationDate'])]\n",
    "\n",
    "new_data.head()\n",
    "\n",
    "# fitted model.\n",
    "lm = smf.ols(formula='EstimatedContractValue ~ WAS_WON', data=new_data ).fit()\n",
    "\n",
    "print(lm.params)\n",
    "print( lm.summary() )"
   ]
  },
  {
   "cell_type": "code",
   "execution_count": 22,
   "metadata": {
    "collapsed": false
   },
   "outputs": [
    {
     "data": {
      "text/plain": [
       "array([ 9.40942557])"
      ]
     },
     "execution_count": 22,
     "metadata": {},
     "output_type": "execute_result"
    }
   ],
   "source": []
  },
  {
   "cell_type": "code",
   "execution_count": 18,
   "metadata": {
    "collapsed": false
   },
   "outputs": [
    {
     "data": {
      "text/plain": [
       "array([ 9.40942557])"
      ]
     },
     "execution_count": 18,
     "metadata": {},
     "output_type": "execute_result"
    }
   ],
   "source": []
  },
  {
   "cell_type": "code",
   "execution_count": 23,
   "metadata": {
    "collapsed": false
   },
   "outputs": [
    {
     "data": {
      "text/html": [
       "<div>\n",
       "<table border=\"1\" class=\"dataframe\">\n",
       "  <thead>\n",
       "    <tr style=\"text-align: right;\">\n",
       "      <th></th>\n",
       "      <th>TV</th>\n",
       "    </tr>\n",
       "  </thead>\n",
       "  <tbody>\n",
       "    <tr>\n",
       "      <th>0</th>\n",
       "      <td>0.7</td>\n",
       "    </tr>\n",
       "    <tr>\n",
       "      <th>1</th>\n",
       "      <td>296.4</td>\n",
       "    </tr>\n",
       "  </tbody>\n",
       "</table>\n",
       "</div>"
      ],
      "text/plain": [
       "      TV\n",
       "0    0.7\n",
       "1  296.4"
      ]
     },
     "execution_count": 23,
     "metadata": {},
     "output_type": "execute_result"
    }
   ],
   "source": []
  },
  {
   "cell_type": "code",
   "execution_count": null,
   "metadata": {
    "collapsed": false
   },
   "outputs": [],
   "source": []
  },
  {
   "cell_type": "code",
   "execution_count": null,
   "metadata": {
    "collapsed": true
   },
   "outputs": [],
   "source": []
  }
 ],
 "metadata": {
  "kernelspec": {
   "display_name": "Python 3",
   "language": "python",
   "name": "python3"
  },
  "language_info": {
   "codemirror_mode": {
    "name": "ipython",
    "version": 3
   },
   "file_extension": ".py",
   "mimetype": "text/x-python",
   "name": "python",
   "nbconvert_exporter": "python",
   "pygments_lexer": "ipython3",
   "version": "3.5.1"
  }
 },
 "nbformat": 4,
 "nbformat_minor": 0
}
