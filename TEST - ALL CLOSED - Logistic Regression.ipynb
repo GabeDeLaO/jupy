{
 "cells": [
  {
   "cell_type": "code",
   "execution_count": 193,
   "metadata": {
    "collapsed": false
   },
   "outputs": [],
   "source": [
    "import pandas as pd\n",
    "import numpy as np"
   ]
  },
  {
   "cell_type": "code",
   "execution_count": 194,
   "metadata": {
    "collapsed": false
   },
   "outputs": [],
   "source": [
    "#opportunities = pd.read_csv('data/TEST_CLOSED_Last_100.csv', index_col=0)\n",
    "opportunities = pd.read_csv('data/all_closed_opps_since_nov_2015_update.csv', index_col=0)"
   ]
  },
  {
   "cell_type": "code",
   "execution_count": 195,
   "metadata": {
    "collapsed": false
   },
   "outputs": [
    {
     "data": {
      "text/html": [
       "<div>\n",
       "<table border=\"1\" class=\"dataframe\">\n",
       "  <thead>\n",
       "    <tr style=\"text-align: right;\">\n",
       "      <th></th>\n",
       "      <th>StageID</th>\n",
       "      <th>stage_category</th>\n",
       "      <th>new_opportunity_days</th>\n",
       "      <th>qualified_opp_days</th>\n",
       "      <th>demo_complete_days</th>\n",
       "      <th>proposal_sent_days</th>\n",
       "      <th>pending_signature_days</th>\n",
       "      <th>nurture_days</th>\n",
       "      <th>closed_won_days</th>\n",
       "      <th>closed_lost</th>\n",
       "      <th>...</th>\n",
       "      <th>start_date</th>\n",
       "      <th>Estimated_Contract_Value</th>\n",
       "      <th>Company</th>\n",
       "      <th>Full_License_Count</th>\n",
       "      <th>crm_license_count</th>\n",
       "      <th>ready_only_count</th>\n",
       "      <th>FDC_Needed</th>\n",
       "      <th>total_livecycle</th>\n",
       "      <th>qualification_days_from_start</th>\n",
       "      <th>first_demo_days_from_start</th>\n",
       "    </tr>\n",
       "    <tr>\n",
       "      <th>opportunityId</th>\n",
       "      <th></th>\n",
       "      <th></th>\n",
       "      <th></th>\n",
       "      <th></th>\n",
       "      <th></th>\n",
       "      <th></th>\n",
       "      <th></th>\n",
       "      <th></th>\n",
       "      <th></th>\n",
       "      <th></th>\n",
       "      <th></th>\n",
       "      <th></th>\n",
       "      <th></th>\n",
       "      <th></th>\n",
       "      <th></th>\n",
       "      <th></th>\n",
       "      <th></th>\n",
       "      <th></th>\n",
       "      <th></th>\n",
       "      <th></th>\n",
       "      <th></th>\n",
       "    </tr>\n",
       "  </thead>\n",
       "  <tbody>\n",
       "    <tr>\n",
       "      <th>981948</th>\n",
       "      <td>7</td>\n",
       "      <td>won</td>\n",
       "      <td>0</td>\n",
       "      <td>0</td>\n",
       "      <td>0</td>\n",
       "      <td>0</td>\n",
       "      <td>0</td>\n",
       "      <td>0</td>\n",
       "      <td>0</td>\n",
       "      <td>0</td>\n",
       "      <td>...</td>\n",
       "      <td>2016-05-12 00:00:00.0</td>\n",
       "      <td>2160.0</td>\n",
       "      <td>2rw Consultants Upsell</td>\n",
       "      <td>0</td>\n",
       "      <td>0</td>\n",
       "      <td>0</td>\n",
       "      <td>False</td>\n",
       "      <td>2</td>\n",
       "      <td>0</td>\n",
       "      <td>-15</td>\n",
       "    </tr>\n",
       "    <tr>\n",
       "      <th>977958</th>\n",
       "      <td>7</td>\n",
       "      <td>won</td>\n",
       "      <td>0</td>\n",
       "      <td>0</td>\n",
       "      <td>0</td>\n",
       "      <td>0</td>\n",
       "      <td>0</td>\n",
       "      <td>0</td>\n",
       "      <td>0</td>\n",
       "      <td>0</td>\n",
       "      <td>...</td>\n",
       "      <td>NaN</td>\n",
       "      <td>2500.0</td>\n",
       "      <td>Herrero Builders, Inc. Cosential/Vista by View...</td>\n",
       "      <td>0</td>\n",
       "      <td>0</td>\n",
       "      <td>0</td>\n",
       "      <td>False</td>\n",
       "      <td>-58</td>\n",
       "      <td>0</td>\n",
       "      <td>0</td>\n",
       "    </tr>\n",
       "    <tr>\n",
       "      <th>972101</th>\n",
       "      <td>7</td>\n",
       "      <td>won</td>\n",
       "      <td>0</td>\n",
       "      <td>0</td>\n",
       "      <td>0</td>\n",
       "      <td>0</td>\n",
       "      <td>22</td>\n",
       "      <td>0</td>\n",
       "      <td>0</td>\n",
       "      <td>0</td>\n",
       "      <td>...</td>\n",
       "      <td>2016-05-12 00:00:00.0</td>\n",
       "      <td>785.0</td>\n",
       "      <td>Johnson Carlier Upsell</td>\n",
       "      <td>0</td>\n",
       "      <td>0</td>\n",
       "      <td>0</td>\n",
       "      <td>False</td>\n",
       "      <td>25</td>\n",
       "      <td>0</td>\n",
       "      <td>8</td>\n",
       "    </tr>\n",
       "    <tr>\n",
       "      <th>971734</th>\n",
       "      <td>11</td>\n",
       "      <td>cancelled</td>\n",
       "      <td>0</td>\n",
       "      <td>0</td>\n",
       "      <td>0</td>\n",
       "      <td>0</td>\n",
       "      <td>0</td>\n",
       "      <td>0</td>\n",
       "      <td>0</td>\n",
       "      <td>6</td>\n",
       "      <td>...</td>\n",
       "      <td>2016-05-06 00:00:00.0</td>\n",
       "      <td>0.0</td>\n",
       "      <td>Palace Construction</td>\n",
       "      <td>0</td>\n",
       "      <td>0</td>\n",
       "      <td>0</td>\n",
       "      <td>False</td>\n",
       "      <td>7</td>\n",
       "      <td>0</td>\n",
       "      <td>0</td>\n",
       "    </tr>\n",
       "    <tr>\n",
       "      <th>969817</th>\n",
       "      <td>7</td>\n",
       "      <td>won</td>\n",
       "      <td>0</td>\n",
       "      <td>0</td>\n",
       "      <td>0</td>\n",
       "      <td>0</td>\n",
       "      <td>0</td>\n",
       "      <td>0</td>\n",
       "      <td>0</td>\n",
       "      <td>0</td>\n",
       "      <td>...</td>\n",
       "      <td>2016-04-13 00:00:00.0</td>\n",
       "      <td>2280.0</td>\n",
       "      <td>Brinkmann Constructors Upsell</td>\n",
       "      <td>0</td>\n",
       "      <td>0</td>\n",
       "      <td>0</td>\n",
       "      <td>False</td>\n",
       "      <td>31</td>\n",
       "      <td>0</td>\n",
       "      <td>-21</td>\n",
       "    </tr>\n",
       "  </tbody>\n",
       "</table>\n",
       "<p>5 rows × 22 columns</p>\n",
       "</div>"
      ],
      "text/plain": [
       "               StageID stage_category  new_opportunity_days  \\\n",
       "opportunityId                                                 \n",
       "981948               7            won                     0   \n",
       "977958               7            won                     0   \n",
       "972101               7            won                     0   \n",
       "971734              11      cancelled                     0   \n",
       "969817               7            won                     0   \n",
       "\n",
       "               qualified_opp_days  demo_complete_days  proposal_sent_days  \\\n",
       "opportunityId                                                               \n",
       "981948                          0                   0                   0   \n",
       "977958                          0                   0                   0   \n",
       "972101                          0                   0                   0   \n",
       "971734                          0                   0                   0   \n",
       "969817                          0                   0                   0   \n",
       "\n",
       "               pending_signature_days  nurture_days  closed_won_days  \\\n",
       "opportunityId                                                          \n",
       "981948                              0             0                0   \n",
       "977958                              0             0                0   \n",
       "972101                             22             0                0   \n",
       "971734                              0             0                0   \n",
       "969817                              0             0                0   \n",
       "\n",
       "               closed_lost             ...                         start_date  \\\n",
       "opportunityId                          ...                                      \n",
       "981948                   0             ...              2016-05-12 00:00:00.0   \n",
       "977958                   0             ...                                NaN   \n",
       "972101                   0             ...              2016-05-12 00:00:00.0   \n",
       "971734                   6             ...              2016-05-06 00:00:00.0   \n",
       "969817                   0             ...              2016-04-13 00:00:00.0   \n",
       "\n",
       "              Estimated_Contract_Value  \\\n",
       "opportunityId                            \n",
       "981948                          2160.0   \n",
       "977958                          2500.0   \n",
       "972101                           785.0   \n",
       "971734                             0.0   \n",
       "969817                          2280.0   \n",
       "\n",
       "                                                         Company  \\\n",
       "opportunityId                                                      \n",
       "981948                                    2rw Consultants Upsell   \n",
       "977958         Herrero Builders, Inc. Cosential/Vista by View...   \n",
       "972101                                    Johnson Carlier Upsell   \n",
       "971734                                       Palace Construction   \n",
       "969817                             Brinkmann Constructors Upsell   \n",
       "\n",
       "               Full_License_Count crm_license_count  ready_only_count  \\\n",
       "opportunityId                                                           \n",
       "981948                          0                 0                 0   \n",
       "977958                          0                 0                 0   \n",
       "972101                          0                 0                 0   \n",
       "971734                          0                 0                 0   \n",
       "969817                          0                 0                 0   \n",
       "\n",
       "               FDC_Needed  total_livecycle qualification_days_from_start  \\\n",
       "opportunityId                                                              \n",
       "981948              False                2                             0   \n",
       "977958              False              -58                             0   \n",
       "972101              False               25                             0   \n",
       "971734              False                7                             0   \n",
       "969817              False               31                             0   \n",
       "\n",
       "               first_demo_days_from_start  \n",
       "opportunityId                              \n",
       "981948                                -15  \n",
       "977958                                  0  \n",
       "972101                                  8  \n",
       "971734                                  0  \n",
       "969817                                -21  \n",
       "\n",
       "[5 rows x 22 columns]"
      ]
     },
     "execution_count": 195,
     "metadata": {},
     "output_type": "execute_result"
    }
   ],
   "source": [
    "opportunities.head()"
   ]
  },
  {
   "cell_type": "code",
   "execution_count": 196,
   "metadata": {
    "collapsed": false
   },
   "outputs": [
    {
     "name": "stdout",
     "output_type": "stream",
     "text": [
      "Index(['StageID', 'stage_category', 'new_opportunity_days',\n",
      "       'qualified_opp_days', 'demo_complete_days', 'proposal_sent_days',\n",
      "       'pending_signature_days', 'nurture_days', 'closed_won_days',\n",
      "       'closed_lost', 'origin_date', 'create_date', 'start_date',\n",
      "       'Estimated_Contract_Value', 'Company', 'Full_License_Count',\n",
      "       'crm_license_count', 'ready_only_count', 'FDC_Needed',\n",
      "       'total_livecycle', 'qualification_days_from_start',\n",
      "       'first_demo_days_from_start'],\n",
      "      dtype='object')\n"
     ]
    }
   ],
   "source": [
    "opportunities.shape\n",
    "print( opportunities.columns )"
   ]
  },
  {
   "cell_type": "code",
   "execution_count": 197,
   "metadata": {
    "collapsed": false
   },
   "outputs": [
    {
     "data": {
      "text/plain": [
       "Index(['StageID', 'stage_category', 'new_opportunity_days',\n",
       "       'qualified_opp_days', 'demo_complete_days', 'proposal_sent_days',\n",
       "       'pending_signature_days', 'nurture_days', 'closed_won_days',\n",
       "       'closed_lost', 'origin_date', 'create_date', 'start_date',\n",
       "       'Estimated_Contract_Value', 'Company', 'Full_License_Count',\n",
       "       'crm_license_count', 'ready_only_count', 'FDC_Needed',\n",
       "       'total_livecycle', 'qualification_days_from_start',\n",
       "       'first_demo_days_from_start', 'is__cancelled', 'is__lost', 'is__won'],\n",
       "      dtype='object')"
      ]
     },
     "execution_count": 197,
     "metadata": {},
     "output_type": "execute_result"
    }
   ],
   "source": [
    "#opportunities.set_index('opportunityid', inplace=True)\n",
    "#opportunities = opportunities.join(pd.get_dummies(opportunities.FirmType, prefix=\"type_\"))\n",
    "#opportunities = opportunities.join(pd.get_dummies(opportunities.Staff, prefix=\"staff_\"))\n",
    "opportunities = opportunities.join(pd.get_dummies(opportunities.stage_category, prefix=\"is_\"))\n",
    "opportunities.columns"
   ]
  },
  {
   "cell_type": "code",
   "execution_count": 163,
   "metadata": {
    "collapsed": false
   },
   "outputs": [
    {
     "data": {
      "text/plain": [
       "<matplotlib.axes._subplots.AxesSubplot at 0x11ac27240>"
      ]
     },
     "execution_count": 163,
     "metadata": {},
     "output_type": "execute_result"
    },
    {
     "data": {
      "image/png": "[encoded data removed]",
      "text/plain": [
       "<matplotlib.figure.Figure at 0x11c073390>"
      ]
     },
     "metadata": {},
     "output_type": "display_data"
    }
   ],
   "source": [
    "%matplotlib inline\n",
    "opportunities.groupby('stage_category').Estimated_Contract_Value.hist()\n",
    "\n",
    "import seaborn as sns\n",
    "sns.set_style(\"whitegrid\")\n",
    "\n",
    "sns.stripplot(x=\"stage_category\", y=\"Estimated_Contract_Value\", data=opportunities, jitter=True)"
   ]
  },
  {
   "cell_type": "code",
   "execution_count": 164,
   "metadata": {
    "collapsed": false
   },
   "outputs": [
    {
     "data": {
      "image/png": "[encoded data removed]",
      "text/plain": [
       "<matplotlib.figure.Figure at 0x11c0869b0>"
      ]
     },
     "metadata": {},
     "output_type": "display_data"
    }
   ],
   "source": [
    "sns.swarmplot(x=\"stage_category\", y=\"Estimated_Contract_Value\", data=opportunities);"
   ]
  },
  {
   "cell_type": "code",
   "execution_count": 177,
   "metadata": {
    "collapsed": true
   },
   "outputs": [],
   "source": [
    "opportunities = opportunities[opportunities.first_demo_days_from_start.notnull()]\n",
    "opportunities = opportunities[opportunities.total_livecycle.notnull()]\n",
    "opportunities = opportunities[opportunities.Estimated_Contract_Value.notnull()]"
   ]
  },
  {
   "cell_type": "code",
   "execution_count": 184,
   "metadata": {
    "collapsed": false
   },
   "outputs": [],
   "source": [
    "from sklearn import grid_search, cross_validation\n",
    "from sklearn.linear_model import LogisticRegression\n",
    "\n",
    "feature_set = opportunities[['first_demo_days_from_start', 'total_livecycle', 'Estimated_Contract_Value']]\n",
    "won_gs = grid_search.GridSearchCV(\n",
    "    estimator=LogisticRegression(),\n",
    "    param_grid={'C': [10**-i for i in range(-5, 5)], 'class_weight': [None, 'balanced']},\n",
    "    cv=cross_validation.KFold(n=len(opportunities), n_folds=10),\n",
    "    scoring='roc_auc'\n",
    ")"
   ]
  },
  {
   "cell_type": "code",
   "execution_count": 185,
   "metadata": {
    "collapsed": false
   },
   "outputs": [
    {
     "data": {
      "text/plain": [
       "[mean: 0.74203, std: 0.20946, params: {'class_weight': None, 'C': 100000},\n",
       " mean: 0.74639, std: 0.20536, params: {'class_weight': 'balanced', 'C': 100000},\n",
       " mean: 0.74203, std: 0.20946, params: {'class_weight': None, 'C': 10000},\n",
       " mean: 0.74639, std: 0.20536, params: {'class_weight': 'balanced', 'C': 10000},\n",
       " mean: 0.74203, std: 0.20946, params: {'class_weight': None, 'C': 1000},\n",
       " mean: 0.74639, std: 0.20536, params: {'class_weight': 'balanced', 'C': 1000},\n",
       " mean: 0.74203, std: 0.20946, params: {'class_weight': None, 'C': 100},\n",
       " mean: 0.74639, std: 0.20536, params: {'class_weight': 'balanced', 'C': 100},\n",
       " mean: 0.74203, std: 0.20946, params: {'class_weight': None, 'C': 10},\n",
       " mean: 0.74639, std: 0.20536, params: {'class_weight': 'balanced', 'C': 10},\n",
       " mean: 0.74430, std: 0.20948, params: {'class_weight': None, 'C': 1},\n",
       " mean: 0.74866, std: 0.20557, params: {'class_weight': 'balanced', 'C': 1},\n",
       " mean: 0.72319, std: 0.19017, params: {'class_weight': None, 'C': 0.1},\n",
       " mean: 0.74162, std: 0.19488, params: {'class_weight': 'balanced', 'C': 0.1},\n",
       " mean: 0.40470, std: 0.14195, params: {'class_weight': None, 'C': 0.01},\n",
       " mean: 0.73548, std: 0.19367, params: {'class_weight': 'balanced', 'C': 0.01},\n",
       " mean: 0.37163, std: 0.15255, params: {'class_weight': None, 'C': 0.001},\n",
       " mean: 0.73548, std: 0.19367, params: {'class_weight': 'balanced', 'C': 0.001},\n",
       " mean: 0.34020, std: 0.15945, params: {'class_weight': None, 'C': 0.0001},\n",
       " mean: 0.75089, std: 0.20875, params: {'class_weight': 'balanced', 'C': 0.0001}]"
      ]
     },
     "execution_count": 185,
     "metadata": {},
     "output_type": "execute_result"
    }
   ],
   "source": [
    "\n",
    "won_gs.fit(feature_set, opportunities.is__won)\n",
    "won_gs.grid_scores_\n"
   ]
  },
  {
   "cell_type": "code",
   "execution_count": 186,
   "metadata": {
    "collapsed": false
   },
   "outputs": [
    {
     "name": "stdout",
     "output_type": "stream",
     "text": [
      "LogisticRegression(C=0.0001, class_weight='balanced', dual=False,\n",
      "          fit_intercept=True, intercept_scaling=1, max_iter=100,\n",
      "          multi_class='ovr', n_jobs=1, penalty='l2', random_state=None,\n",
      "          solver='liblinear', tol=0.0001, verbose=0, warm_start=False)\n",
      "{'class_weight': 'balanced', 'C': 0.0001}\n"
     ]
    }
   ],
   "source": [
    "print(won_gs.best_estimator_)\n",
    "print(won_gs.best_params_)"
   ]
  },
  {
   "cell_type": "code",
   "execution_count": 187,
   "metadata": {
    "collapsed": false
   },
   "outputs": [
    {
     "data": {
      "text/plain": [
       "0.75088743373414901"
      ]
     },
     "execution_count": 187,
     "metadata": {},
     "output_type": "execute_result"
    }
   ],
   "source": [
    "won_gs.best_score_"
   ]
  },
  {
   "cell_type": "code",
   "execution_count": 182,
   "metadata": {
    "collapsed": false
   },
   "outputs": [
    {
     "data": {
      "text/plain": [
       "[mean: 0.56274, std: 0.19455, params: {'class_weight': None, 'C': 100000},\n",
       " mean: 0.63718, std: 0.14284, params: {'class_weight': 'balanced', 'C': 100000},\n",
       " mean: 0.56274, std: 0.19455, params: {'class_weight': None, 'C': 10000},\n",
       " mean: 0.63718, std: 0.14284, params: {'class_weight': 'balanced', 'C': 10000},\n",
       " mean: 0.56274, std: 0.19455, params: {'class_weight': None, 'C': 1000},\n",
       " mean: 0.63718, std: 0.14284, params: {'class_weight': 'balanced', 'C': 1000},\n",
       " mean: 0.56274, std: 0.19455, params: {'class_weight': None, 'C': 100},\n",
       " mean: 0.63718, std: 0.14284, params: {'class_weight': 'balanced', 'C': 100},\n",
       " mean: 0.56087, std: 0.19501, params: {'class_weight': None, 'C': 10},\n",
       " mean: 0.63237, std: 0.14220, params: {'class_weight': 'balanced', 'C': 10},\n",
       " mean: 0.55959, std: 0.19186, params: {'class_weight': None, 'C': 1},\n",
       " mean: 0.62066, std: 0.14908, params: {'class_weight': 'balanced', 'C': 1},\n",
       " mean: 0.41551, std: 0.06371, params: {'class_weight': None, 'C': 0.1},\n",
       " mean: 0.60053, std: 0.18020, params: {'class_weight': 'balanced', 'C': 0.1},\n",
       " mean: 0.40518, std: 0.05972, params: {'class_weight': None, 'C': 0.01},\n",
       " mean: 0.60335, std: 0.18156, params: {'class_weight': 'balanced', 'C': 0.01},\n",
       " mean: 0.39455, std: 0.07191, params: {'class_weight': None, 'C': 0.001},\n",
       " mean: 0.59443, std: 0.18997, params: {'class_weight': 'balanced', 'C': 0.001},\n",
       " mean: 0.39226, std: 0.09541, params: {'class_weight': None, 'C': 0.0001},\n",
       " mean: 0.55308, std: 0.19395, params: {'class_weight': 'balanced', 'C': 0.0001}]"
      ]
     },
     "execution_count": 182,
     "metadata": {},
     "output_type": "execute_result"
    }
   ],
   "source": [
    "# Is Cancelled.\n",
    "from sklearn import grid_search, cross_validation\n",
    "from sklearn.linear_model import LogisticRegression\n",
    "\n",
    "feature_set = opportunities[['first_demo_days_from_start', 'total_livecycle', 'Estimated_Contract_Value']]\n",
    "cancelled_gs = grid_search.GridSearchCV(\n",
    "    estimator=LogisticRegression(),\n",
    "    param_grid={'C': [10**-i for i in range(-5, 5)], 'class_weight': [None, 'balanced']},\n",
    "    cv=cross_validation.KFold(n=len(opportunities), n_folds=3),\n",
    "    scoring='roc_auc'\n",
    ")\n",
    "\n",
    "cancelled_gs.fit(feature_set, opportunities.is__cancelled)\n",
    "cancelled_gs.grid_scores_"
   ]
  },
  {
   "cell_type": "code",
   "execution_count": 188,
   "metadata": {
    "collapsed": false
   },
   "outputs": [
    {
     "data": {
      "text/plain": [
       "0.63718343913311271"
      ]
     },
     "execution_count": 188,
     "metadata": {},
     "output_type": "execute_result"
    }
   ],
   "source": [
    "# cancelled score.\n",
    "cancelled_gs.best_score_"
   ]
  },
  {
   "cell_type": "code",
   "execution_count": 198,
   "metadata": {
    "collapsed": false
   },
   "outputs": [
    {
     "ename": "ValueError",
     "evalue": "k-fold cross validation requires at least one train / test split by setting n_folds=2 or more, got n_folds=0.",
     "output_type": "error",
     "traceback": [
      "\u001b[0;31m---------------------------------------------------------------------------\u001b[0m",
      "\u001b[0;31mValueError\u001b[0m                                Traceback (most recent call last)",
      "\u001b[0;32m<ipython-input-198-5a14184f74ce>\u001b[0m in \u001b[0;36m<module>\u001b[0;34m()\u001b[0m\n\u001b[1;32m      9\u001b[0m     \u001b[0mestimator\u001b[0m\u001b[0;34m=\u001b[0m\u001b[0mLogisticRegression\u001b[0m\u001b[0;34m(\u001b[0m\u001b[0;34m)\u001b[0m\u001b[0;34m,\u001b[0m\u001b[0;34m\u001b[0m\u001b[0m\n\u001b[1;32m     10\u001b[0m     \u001b[0mparam_grid\u001b[0m\u001b[0;34m=\u001b[0m\u001b[0;34m{\u001b[0m\u001b[0;34m'C'\u001b[0m\u001b[0;34m:\u001b[0m \u001b[0;34m[\u001b[0m\u001b[0;36m10\u001b[0m\u001b[0;34m**\u001b[0m\u001b[0;34m-\u001b[0m\u001b[0mi\u001b[0m \u001b[0;32mfor\u001b[0m \u001b[0mi\u001b[0m \u001b[0;32min\u001b[0m \u001b[0mrange\u001b[0m\u001b[0;34m(\u001b[0m\u001b[0;34m-\u001b[0m\u001b[0;36m5\u001b[0m\u001b[0;34m,\u001b[0m \u001b[0;36m5\u001b[0m\u001b[0;34m)\u001b[0m\u001b[0;34m]\u001b[0m\u001b[0;34m,\u001b[0m \u001b[0;34m'class_weight'\u001b[0m\u001b[0;34m:\u001b[0m \u001b[0;34m[\u001b[0m\u001b[0;32mNone\u001b[0m\u001b[0;34m,\u001b[0m \u001b[0;34m'balanced'\u001b[0m\u001b[0;34m]\u001b[0m\u001b[0;34m}\u001b[0m\u001b[0;34m,\u001b[0m\u001b[0;34m\u001b[0m\u001b[0m\n\u001b[0;32m---> 11\u001b[0;31m     \u001b[0mcv\u001b[0m\u001b[0;34m=\u001b[0m\u001b[0mcross_validation\u001b[0m\u001b[0;34m.\u001b[0m\u001b[0mKFold\u001b[0m\u001b[0;34m(\u001b[0m\u001b[0mn\u001b[0m\u001b[0;34m=\u001b[0m\u001b[0mlen\u001b[0m\u001b[0;34m(\u001b[0m\u001b[0mopportunities\u001b[0m\u001b[0;34m)\u001b[0m\u001b[0;34m,\u001b[0m \u001b[0mn_folds\u001b[0m\u001b[0;34m=\u001b[0m\u001b[0;36m0\u001b[0m\u001b[0;34m)\u001b[0m\u001b[0;34m,\u001b[0m\u001b[0;34m\u001b[0m\u001b[0m\n\u001b[0m\u001b[1;32m     12\u001b[0m     \u001b[0mscoring\u001b[0m\u001b[0;34m=\u001b[0m\u001b[0;34m'roc_auc'\u001b[0m\u001b[0;34m\u001b[0m\u001b[0m\n\u001b[1;32m     13\u001b[0m )\n",
      "\u001b[0;32m/Users/gabrieldelao/anaconda/lib/python3.5/site-packages/sklearn/cross_validation.py\u001b[0m in \u001b[0;36m__init__\u001b[0;34m(self, n, n_folds, shuffle, random_state)\u001b[0m\n\u001b[1;32m    312\u001b[0m     def __init__(self, n, n_folds=3, shuffle=False,\n\u001b[1;32m    313\u001b[0m                  random_state=None):\n\u001b[0;32m--> 314\u001b[0;31m         \u001b[0msuper\u001b[0m\u001b[0;34m(\u001b[0m\u001b[0mKFold\u001b[0m\u001b[0;34m,\u001b[0m \u001b[0mself\u001b[0m\u001b[0;34m)\u001b[0m\u001b[0;34m.\u001b[0m\u001b[0m__init__\u001b[0m\u001b[0;34m(\u001b[0m\u001b[0mn\u001b[0m\u001b[0;34m,\u001b[0m \u001b[0mn_folds\u001b[0m\u001b[0;34m,\u001b[0m \u001b[0mshuffle\u001b[0m\u001b[0;34m,\u001b[0m \u001b[0mrandom_state\u001b[0m\u001b[0;34m)\u001b[0m\u001b[0;34m\u001b[0m\u001b[0m\n\u001b[0m\u001b[1;32m    315\u001b[0m         \u001b[0mself\u001b[0m\u001b[0;34m.\u001b[0m\u001b[0midxs\u001b[0m \u001b[0;34m=\u001b[0m \u001b[0mnp\u001b[0m\u001b[0;34m.\u001b[0m\u001b[0marange\u001b[0m\u001b[0;34m(\u001b[0m\u001b[0mn\u001b[0m\u001b[0;34m)\u001b[0m\u001b[0;34m\u001b[0m\u001b[0m\n\u001b[1;32m    316\u001b[0m         \u001b[0;32mif\u001b[0m \u001b[0mshuffle\u001b[0m\u001b[0;34m:\u001b[0m\u001b[0;34m\u001b[0m\u001b[0m\n",
      "\u001b[0;32m/Users/gabrieldelao/anaconda/lib/python3.5/site-packages/sklearn/cross_validation.py\u001b[0m in \u001b[0;36m__init__\u001b[0;34m(self, n, n_folds, shuffle, random_state)\u001b[0m\n\u001b[1;32m    239\u001b[0m                 \u001b[0;34m\"k-fold cross validation requires at least one\"\u001b[0m\u001b[0;34m\u001b[0m\u001b[0m\n\u001b[1;32m    240\u001b[0m                 \u001b[0;34m\" train / test split by setting n_folds=2 or more,\"\u001b[0m\u001b[0;34m\u001b[0m\u001b[0m\n\u001b[0;32m--> 241\u001b[0;31m                 \" got n_folds={0}.\".format(n_folds))\n\u001b[0m\u001b[1;32m    242\u001b[0m         \u001b[0;32mif\u001b[0m \u001b[0mn_folds\u001b[0m \u001b[0;34m>\u001b[0m \u001b[0mself\u001b[0m\u001b[0;34m.\u001b[0m\u001b[0mn\u001b[0m\u001b[0;34m:\u001b[0m\u001b[0;34m\u001b[0m\u001b[0m\n\u001b[1;32m    243\u001b[0m             raise ValueError(\n",
      "\u001b[0;31mValueError\u001b[0m: k-fold cross validation requires at least one train / test split by setting n_folds=2 or more, got n_folds=0."
     ]
    }
   ],
   "source": [
    "# Is Lost.\n",
    "\n",
    "# Is Cancelled.\n",
    "from sklearn import grid_search, cross_validation\n",
    "from sklearn.linear_model import LogisticRegression\n",
    "\n",
    "feature_set = opportunities[['first_demo_days_from_start', 'total_livecycle', 'Estimated_Contract_Value']]\n",
    "lost_gs = grid_search.GridSearchCV(\n",
    "    estimator=LogisticRegression(),\n",
    "    param_grid={'C': [10**-i for i in range(-5, 5)], 'class_weight': [None, 'balanced']},\n",
    "    cv=cross_validation.KFold(n=len(opportunities), n_folds=0),\n",
    "    scoring='roc_auc'\n",
    ")\n",
    "\n",
    "\n",
    "lost_gs = gs.fit(feature_set, opportunities.is__lost)\n",
    "lost_gs.grid_scores_"
   ]
  },
  {
   "cell_type": "code",
   "execution_count": 199,
   "metadata": {
    "collapsed": false
   },
   "outputs": [],
   "source": [
    "#print(gs.predict_proba(feature_set))"
   ]
  },
  {
   "cell_type": "code",
   "execution_count": null,
   "metadata": {
    "collapsed": true
   },
   "outputs": [],
   "source": []
  }
 ],
 "metadata": {
  "kernelspec": {
   "display_name": "Python 3",
   "language": "python",
   "name": "python3"
  },
  "language_info": {
   "codemirror_mode": {
    "name": "ipython",
    "version": 3
   },
   "file_extension": ".py",
   "mimetype": "text/x-python",
   "name": "python",
   "nbconvert_exporter": "python",
   "pygments_lexer": "ipython3",
   "version": "3.5.1"
  }
 },
 "nbformat": 4,
 "nbformat_minor": 0
}
