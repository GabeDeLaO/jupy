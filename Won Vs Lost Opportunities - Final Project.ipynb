{
 "cells": [
  {
   "cell_type": "code",
   "execution_count": 2,
   "metadata": {
    "collapsed": false
   },
   "outputs": [],
   "source": [
    "import pandas as pd\n",
    "import numpy as np"
   ]
  },
  {
   "cell_type": "code",
   "execution_count": 3,
   "metadata": {
    "collapsed": false
   },
   "outputs": [],
   "source": [
    "\n",
    "opportunities = pd.read_csv('data/all_closed_opps_since_june_2015_won_vs_lost_and_cancelled_by_sales_team.csv', \n",
    "                            index_col=0)"
   ]
  },
  {
   "cell_type": "code",
   "execution_count": 4,
   "metadata": {
    "collapsed": false
   },
   "outputs": [
    {
     "data": {
      "text/html": [
       "<div>\n",
       "<table border=\"1\" class=\"dataframe\">\n",
       "  <thead>\n",
       "    <tr style=\"text-align: right;\">\n",
       "      <th></th>\n",
       "      <th>StageID</th>\n",
       "      <th>stage_category</th>\n",
       "      <th>new_opportunity_days</th>\n",
       "      <th>qualified_opp_days</th>\n",
       "      <th>demo_complete_days</th>\n",
       "      <th>proposal_sent_days</th>\n",
       "      <th>pending_signature_days</th>\n",
       "      <th>nurture_days</th>\n",
       "      <th>closed_won_days</th>\n",
       "      <th>closed_lost</th>\n",
       "      <th>...</th>\n",
       "      <th>crm_license_count</th>\n",
       "      <th>ready_only_count</th>\n",
       "      <th>FDC_Needed</th>\n",
       "      <th>total_livecycle</th>\n",
       "      <th>qualification_days_from_start</th>\n",
       "      <th>first_demo_days_from_start</th>\n",
       "      <th>ForeCastCategory</th>\n",
       "      <th>FirmSize</th>\n",
       "      <th>uses_count</th>\n",
       "      <th>lead_sales</th>\n",
       "    </tr>\n",
       "    <tr>\n",
       "      <th>opportunityId</th>\n",
       "      <th></th>\n",
       "      <th></th>\n",
       "      <th></th>\n",
       "      <th></th>\n",
       "      <th></th>\n",
       "      <th></th>\n",
       "      <th></th>\n",
       "      <th></th>\n",
       "      <th></th>\n",
       "      <th></th>\n",
       "      <th></th>\n",
       "      <th></th>\n",
       "      <th></th>\n",
       "      <th></th>\n",
       "      <th></th>\n",
       "      <th></th>\n",
       "      <th></th>\n",
       "      <th></th>\n",
       "      <th></th>\n",
       "      <th></th>\n",
       "      <th></th>\n",
       "    </tr>\n",
       "  </thead>\n",
       "  <tbody>\n",
       "    <tr>\n",
       "      <th>981948</th>\n",
       "      <td>7</td>\n",
       "      <td>won</td>\n",
       "      <td>0</td>\n",
       "      <td>0</td>\n",
       "      <td>0</td>\n",
       "      <td>0</td>\n",
       "      <td>0</td>\n",
       "      <td>0</td>\n",
       "      <td>0</td>\n",
       "      <td>0</td>\n",
       "      <td>...</td>\n",
       "      <td>0</td>\n",
       "      <td>0</td>\n",
       "      <td>False</td>\n",
       "      <td>2</td>\n",
       "      <td>0</td>\n",
       "      <td>-15</td>\n",
       "      <td>Commit</td>\n",
       "      <td>0</td>\n",
       "      <td>1</td>\n",
       "      <td>Veeravalli</td>\n",
       "    </tr>\n",
       "    <tr>\n",
       "      <th>977958</th>\n",
       "      <td>7</td>\n",
       "      <td>won</td>\n",
       "      <td>0</td>\n",
       "      <td>0</td>\n",
       "      <td>0</td>\n",
       "      <td>0</td>\n",
       "      <td>0</td>\n",
       "      <td>0</td>\n",
       "      <td>0</td>\n",
       "      <td>0</td>\n",
       "      <td>...</td>\n",
       "      <td>0</td>\n",
       "      <td>0</td>\n",
       "      <td>False</td>\n",
       "      <td>-58</td>\n",
       "      <td>0</td>\n",
       "      <td>0</td>\n",
       "      <td>Commit</td>\n",
       "      <td>0</td>\n",
       "      <td>3</td>\n",
       "      <td>Rademacher</td>\n",
       "    </tr>\n",
       "    <tr>\n",
       "      <th>972101</th>\n",
       "      <td>7</td>\n",
       "      <td>won</td>\n",
       "      <td>0</td>\n",
       "      <td>0</td>\n",
       "      <td>0</td>\n",
       "      <td>0</td>\n",
       "      <td>22</td>\n",
       "      <td>0</td>\n",
       "      <td>0</td>\n",
       "      <td>0</td>\n",
       "      <td>...</td>\n",
       "      <td>0</td>\n",
       "      <td>0</td>\n",
       "      <td>False</td>\n",
       "      <td>25</td>\n",
       "      <td>0</td>\n",
       "      <td>8</td>\n",
       "      <td>Best Case</td>\n",
       "      <td>0</td>\n",
       "      <td>1</td>\n",
       "      <td>Veeravalli</td>\n",
       "    </tr>\n",
       "    <tr>\n",
       "      <th>969817</th>\n",
       "      <td>7</td>\n",
       "      <td>won</td>\n",
       "      <td>0</td>\n",
       "      <td>0</td>\n",
       "      <td>0</td>\n",
       "      <td>0</td>\n",
       "      <td>0</td>\n",
       "      <td>0</td>\n",
       "      <td>0</td>\n",
       "      <td>0</td>\n",
       "      <td>...</td>\n",
       "      <td>0</td>\n",
       "      <td>0</td>\n",
       "      <td>False</td>\n",
       "      <td>31</td>\n",
       "      <td>0</td>\n",
       "      <td>-21</td>\n",
       "      <td>Commit</td>\n",
       "      <td>0</td>\n",
       "      <td>1</td>\n",
       "      <td>Veeravalli</td>\n",
       "    </tr>\n",
       "    <tr>\n",
       "      <th>967155</th>\n",
       "      <td>7</td>\n",
       "      <td>won</td>\n",
       "      <td>0</td>\n",
       "      <td>4</td>\n",
       "      <td>0</td>\n",
       "      <td>0</td>\n",
       "      <td>0</td>\n",
       "      <td>0</td>\n",
       "      <td>0</td>\n",
       "      <td>0</td>\n",
       "      <td>...</td>\n",
       "      <td>0</td>\n",
       "      <td>0</td>\n",
       "      <td>False</td>\n",
       "      <td>20</td>\n",
       "      <td>0</td>\n",
       "      <td>7</td>\n",
       "      <td>Commit</td>\n",
       "      <td>0</td>\n",
       "      <td>3</td>\n",
       "      <td>Reyna</td>\n",
       "    </tr>\n",
       "  </tbody>\n",
       "</table>\n",
       "<p>5 rows × 27 columns</p>\n",
       "</div>"
      ],
      "text/plain": [
       "               StageID stage_category  new_opportunity_days  \\\n",
       "opportunityId                                                 \n",
       "981948               7            won                     0   \n",
       "977958               7            won                     0   \n",
       "972101               7            won                     0   \n",
       "969817               7            won                     0   \n",
       "967155               7            won                     0   \n",
       "\n",
       "               qualified_opp_days  demo_complete_days  proposal_sent_days  \\\n",
       "opportunityId                                                               \n",
       "981948                          0                   0                   0   \n",
       "977958                          0                   0                   0   \n",
       "972101                          0                   0                   0   \n",
       "969817                          0                   0                   0   \n",
       "967155                          4                   0                   0   \n",
       "\n",
       "               pending_signature_days  nurture_days  closed_won_days  \\\n",
       "opportunityId                                                          \n",
       "981948                              0             0                0   \n",
       "977958                              0             0                0   \n",
       "972101                             22             0                0   \n",
       "969817                              0             0                0   \n",
       "967155                              0             0                0   \n",
       "\n",
       "               closed_lost     ...     crm_license_count ready_only_count  \\\n",
       "opportunityId                  ...                                          \n",
       "981948                   0     ...                     0                0   \n",
       "977958                   0     ...                     0                0   \n",
       "972101                   0     ...                     0                0   \n",
       "969817                   0     ...                     0                0   \n",
       "967155                   0     ...                     0                0   \n",
       "\n",
       "              FDC_Needed total_livecycle  qualification_days_from_start  \\\n",
       "opportunityId                                                             \n",
       "981948             False               2                              0   \n",
       "977958             False             -58                              0   \n",
       "972101             False              25                              0   \n",
       "969817             False              31                              0   \n",
       "967155             False              20                              0   \n",
       "\n",
       "              first_demo_days_from_start  ForeCastCategory  FirmSize  \\\n",
       "opportunityId                                                          \n",
       "981948                               -15            Commit         0   \n",
       "977958                                 0            Commit         0   \n",
       "972101                                 8         Best Case         0   \n",
       "969817                               -21            Commit         0   \n",
       "967155                                 7            Commit         0   \n",
       "\n",
       "               uses_count  lead_sales  \n",
       "opportunityId                          \n",
       "981948                  1  Veeravalli  \n",
       "977958                  3  Rademacher  \n",
       "972101                  1  Veeravalli  \n",
       "969817                  1  Veeravalli  \n",
       "967155                  3       Reyna  \n",
       "\n",
       "[5 rows x 27 columns]"
      ]
     },
     "execution_count": 4,
     "metadata": {},
     "output_type": "execute_result"
    }
   ],
   "source": [
    "opportunities = opportunities[opportunities.lead_sales.notnull()]\n",
    "opportunities.head()"
   ]
  },
  {
   "cell_type": "code",
   "execution_count": 5,
   "metadata": {
    "collapsed": false
   },
   "outputs": [
    {
     "name": "stdout",
     "output_type": "stream",
     "text": [
      "Index(['StageID', 'stage_category', 'new_opportunity_days',\n",
      "       'qualified_opp_days', 'demo_complete_days', 'proposal_sent_days',\n",
      "       'pending_signature_days', 'nurture_days', 'closed_won_days',\n",
      "       'closed_lost', 'origin_date', 'create_date', 'start_date', 'clost_date',\n",
      "       'Estimated_Contract_Value', 'Company', 'Full_License_Count',\n",
      "       'crm_license_count', 'ready_only_count', 'FDC_Needed',\n",
      "       'total_livecycle', 'qualification_days_from_start',\n",
      "       'first_demo_days_from_start', 'ForeCastCategory', 'FirmSize',\n",
      "       'uses_count', 'lead_sales'],\n",
      "      dtype='object')\n"
     ]
    }
   ],
   "source": [
    "opportunities.shape\n",
    "print( opportunities.columns )"
   ]
  },
  {
   "cell_type": "markdown",
   "metadata": {},
   "source": [
    "<h2>Adding some dummy variables</h2>"
   ]
  },
  {
   "cell_type": "code",
   "execution_count": 24,
   "metadata": {
    "collapsed": false
   },
   "outputs": [
    {
     "data": {
      "text/plain": [
       "Index(['StageID', 'stage_category', 'new_opportunity_days',\n",
       "       'qualified_opp_days', 'demo_complete_days', 'proposal_sent_days',\n",
       "       'pending_signature_days', 'nurture_days', 'closed_won_days',\n",
       "       'closed_lost', 'origin_date', 'create_date', 'start_date', 'clost_date',\n",
       "       'Estimated_Contract_Value', 'Company', 'Full_License_Count',\n",
       "       'crm_license_count', 'ready_only_count', 'FDC_Needed',\n",
       "       'total_livecycle', 'qualification_days_from_start',\n",
       "       'first_demo_days_from_start', 'ForeCastCategory', 'FirmSize',\n",
       "       'uses_count', 'lead_sales', '_sales_rep__Cornish',\n",
       "       '_sales_rep__Hazlett', '_sales_rep__Hughes', '_sales_rep__Rademacher',\n",
       "       '_sales_rep__Reyna', '_sales_rep__Veeravalli', '_sales_rep__Warren',\n",
       "       'is__lost', 'is__won', 'forecast__Best Case', 'forecast__Commit',\n",
       "       'forecast__Pipeline', 'forecast__none'],\n",
       "      dtype='object')"
      ]
     },
     "execution_count": 24,
     "metadata": {},
     "output_type": "execute_result"
    }
   ],
   "source": [
    "opportunities = opportunities.join(pd.get_dummies(opportunities.stage_category, prefix=\"is_\"))\n",
    "opportunities = opportunities.join(pd.get_dummies(opportunities.lead_sales, prefix=\"_sales_rep_\"))\n",
    "opportunities = opportunities.join(pd.get_dummies(opportunities.ForeCastCategory, prefix=\"forecast_\"))\n",
    "\n",
    "opportunities.columns"
   ]
  },
  {
   "cell_type": "markdown",
   "metadata": {},
   "source": [
    "<h2>Plotting: Won/Loss Against Estimated Contract Value ($)</h2>"
   ]
  },
  {
   "cell_type": "code",
   "execution_count": 87,
   "metadata": {
    "collapsed": false
   },
   "outputs": [
    {
     "data": {
      "text/plain": [
       "<matplotlib.axes._subplots.AxesSubplot at 0x11ab4f048>"
      ]
     },
     "execution_count": 87,
     "metadata": {},
     "output_type": "execute_result"
    },
    {
     "data": {
      "image/png": "[encoded data removed]",
      "text/plain": [
       "<matplotlib.figure.Figure at 0x11ab35c50>"
      ]
     },
     "metadata": {},
     "output_type": "display_data"
    }
   ],
   "source": [
    "%matplotlib inline\n",
    "opportunities.groupby('stage_category').Estimated_Contract_Value.hist()\n",
    "\n",
    "import seaborn as sns\n",
    "sns.set_style(\"whitegrid\")\n",
    "\n",
    "sns.stripplot(x=\"stage_category\", y=\"Estimated_Contract_Value\", data=opportunities, jitter=True)"
   ]
  },
  {
   "cell_type": "markdown",
   "metadata": {},
   "source": [
    "<h2>Plotting: Won/Loss, Estimated Contract Value ($) with Cornish</h2>"
   ]
  },
  {
   "cell_type": "code",
   "execution_count": 10,
   "metadata": {
    "collapsed": false
   },
   "outputs": [
    {
     "data": {
      "text/plain": [
       "<matplotlib.axes._subplots.AxesSubplot at 0x116d70b38>"
      ]
     },
     "execution_count": 10,
     "metadata": {},
     "output_type": "execute_result"
    },
    {
     "data": {
      "image/png": "[encoded data removed]",
      "text/plain": [
       "<matplotlib.figure.Figure at 0x119176c50>"
      ]
     },
     "metadata": {},
     "output_type": "display_data"
    }
   ],
   "source": [
    "# Cornish\n",
    "sns.swarmplot(x=\"stage_category\", y=\"Estimated_Contract_Value\", hue=\"_sales_rep__Cornish\", data=opportunities)"
   ]
  },
  {
   "cell_type": "markdown",
   "metadata": {},
   "source": [
    "<h2>Plotting: Won/Loss, Estimated Contract Value ($) with Hughes</h2>"
   ]
  },
  {
   "cell_type": "code",
   "execution_count": 12,
   "metadata": {
    "collapsed": false
   },
   "outputs": [
    {
     "data": {
      "text/plain": [
       "<matplotlib.axes._subplots.AxesSubplot at 0x1195b2080>"
      ]
     },
     "execution_count": 12,
     "metadata": {},
     "output_type": "execute_result"
    },
    {
     "data": {
      "image/png": "[encoded data removed]",
      "text/plain": [
       "<matplotlib.figure.Figure at 0x1195ba748>"
      ]
     },
     "metadata": {},
     "output_type": "display_data"
    }
   ],
   "source": [
    "# Hughes\n",
    "sns.swarmplot(x=\"stage_category\", y=\"Estimated_Contract_Value\", hue=\"_sales_rep__Hughes\", data=opportunities)"
   ]
  },
  {
   "cell_type": "markdown",
   "metadata": {},
   "source": [
    "<h2>Plotting: Won/Loss, Estimated Contract Value ($) with Rademacher</h2>"
   ]
  },
  {
   "cell_type": "code",
   "execution_count": 15,
   "metadata": {
    "collapsed": false
   },
   "outputs": [
    {
     "data": {
      "text/plain": [
       "<matplotlib.axes._subplots.AxesSubplot at 0x116d58c88>"
      ]
     },
     "execution_count": 15,
     "metadata": {},
     "output_type": "execute_result"
    },
    {
     "data": {
      "image/png": "[encoded data removed]",
      "text/plain": [
       "<matplotlib.figure.Figure at 0x119d49a20>"
      ]
     },
     "metadata": {},
     "output_type": "display_data"
    }
   ],
   "source": [
    "# Rademacher\n",
    "sns.swarmplot(x=\"stage_category\", y=\"Estimated_Contract_Value\", hue=\"_sales_rep__Rademacher\", data=opportunities)"
   ]
  },
  {
   "cell_type": "markdown",
   "metadata": {},
   "source": [
    "<h2>Plotting: Won/Loss, Estimated Contract Value ($) with Reyna</h2>"
   ]
  },
  {
   "cell_type": "code",
   "execution_count": 16,
   "metadata": {
    "collapsed": false
   },
   "outputs": [
    {
     "data": {
      "text/plain": [
       "<matplotlib.axes._subplots.AxesSubplot at 0x119d65b38>"
      ]
     },
     "execution_count": 16,
     "metadata": {},
     "output_type": "execute_result"
    },
    {
     "data": {
      "image/png": "[encoded data removed]",
      "text/plain": [
       "<matplotlib.figure.Figure at 0x119d732b0>"
      ]
     },
     "metadata": {},
     "output_type": "display_data"
    }
   ],
   "source": [
    "# Reyna\n",
    "sns.swarmplot(x=\"stage_category\", y=\"Estimated_Contract_Value\", hue=\"_sales_rep__Reyna\", data=opportunities)"
   ]
  },
  {
   "cell_type": "markdown",
   "metadata": {},
   "source": [
    "<h2>Plotting: Won/Loss, Estimated Contract Value ($) with Veeravalli</h2>"
   ]
  },
  {
   "cell_type": "code",
   "execution_count": 17,
   "metadata": {
    "collapsed": false
   },
   "outputs": [
    {
     "data": {
      "text/plain": [
       "<matplotlib.axes._subplots.AxesSubplot at 0x119c2cac8>"
      ]
     },
     "execution_count": 17,
     "metadata": {},
     "output_type": "execute_result"
    },
    {
     "data": {
      "image/png": "[encoded data removed]",
      "text/plain": [
       "<matplotlib.figure.Figure at 0x119e8c9e8>"
      ]
     },
     "metadata": {},
     "output_type": "display_data"
    }
   ],
   "source": [
    "# Veeravalli\n",
    "sns.swarmplot(x=\"stage_category\", y=\"Estimated_Contract_Value\", hue=\"_sales_rep__Veeravalli\", data=opportunities)"
   ]
  },
  {
   "cell_type": "markdown",
   "metadata": {},
   "source": [
    "<h2>Plotting: Won/Loss, Estimated Contract Value ($) with Hazlett</h2>"
   ]
  },
  {
   "cell_type": "code",
   "execution_count": 18,
   "metadata": {
    "collapsed": false
   },
   "outputs": [
    {
     "data": {
      "text/plain": [
       "<matplotlib.axes._subplots.AxesSubplot at 0x119fa85f8>"
      ]
     },
     "execution_count": 18,
     "metadata": {},
     "output_type": "execute_result"
    },
    {
     "data": {
      "image/png": "[encoded data removed]",
      "text/plain": [
       "<matplotlib.figure.Figure at 0x119faf048>"
      ]
     },
     "metadata": {},
     "output_type": "display_data"
    }
   ],
   "source": [
    "# Hazlett\n",
    "sns.swarmplot(x=\"stage_category\", y=\"Estimated_Contract_Value\", hue=\"_sales_rep__Hazlett\", data=opportunities)"
   ]
  },
  {
   "cell_type": "markdown",
   "metadata": {},
   "source": [
    "<h2>Plotting: Won/Loss, Estimated Contract Value ($) with Forecast Category</h2>"
   ]
  },
  {
   "cell_type": "code",
   "execution_count": 19,
   "metadata": {
    "collapsed": false
   },
   "outputs": [
    {
     "data": {
      "text/plain": [
       "<matplotlib.axes._subplots.AxesSubplot at 0x11a1ffac8>"
      ]
     },
     "execution_count": 19,
     "metadata": {},
     "output_type": "execute_result"
    },
    {
     "data": {
      "image/png": "[encoded data removed]",
      "text/plain": [
       "<matplotlib.figure.Figure at 0x11a209128>"
      ]
     },
     "metadata": {},
     "output_type": "display_data"
    }
   ],
   "source": [
    "# Forecast Type\n",
    "sns.swarmplot(x=\"stage_category\", y=\"Estimated_Contract_Value\", hue=\"ForeCastCategory\", data=opportunities)"
   ]
  },
  {
   "cell_type": "markdown",
   "metadata": {},
   "source": [
    "<h1>Logistic Regression</h1>"
   ]
  },
  {
   "cell_type": "markdown",
   "metadata": {},
   "source": [
    "<h3>Without Livecycle</h3>"
   ]
  },
  {
   "cell_type": "code",
   "execution_count": 31,
   "metadata": {
    "collapsed": false
   },
   "outputs": [],
   "source": [
    "from sklearn import grid_search, cross_validation\n",
    "from sklearn.linear_model import LogisticRegression\n",
    "\n",
    "\n",
    "#feature_set = opportunities[['first_demo_days_from_start', 'total_livecycle', 'Estimated_Contract_Value']]\n",
    "feature_set = opportunities[['Estimated_Contract_Value','forecast__Commit','_sales_rep__Cornish',\n",
    "                             'forecast__Pipeline','forecast__Best Case']]\n",
    "won_gs = grid_search.GridSearchCV(\n",
    "    estimator=LogisticRegression(),\n",
    "    param_grid={'C': [10**-i for i in range(-5, 5)], 'class_weight': [None, 'balanced']},\n",
    "    cv=cross_validation.KFold(n=len(opportunities), n_folds=7),\n",
    "    scoring='roc_auc'\n",
    ")"
   ]
  },
  {
   "cell_type": "code",
   "execution_count": 32,
   "metadata": {
    "collapsed": false
   },
   "outputs": [
    {
     "data": {
      "text/plain": [
       "[mean: 0.63179, std: 0.16165, params: {'class_weight': None, 'C': 100000},\n",
       " mean: 0.63909, std: 0.15264, params: {'class_weight': 'balanced', 'C': 100000},\n",
       " mean: 0.63179, std: 0.16165, params: {'class_weight': None, 'C': 10000},\n",
       " mean: 0.63909, std: 0.15264, params: {'class_weight': 'balanced', 'C': 10000},\n",
       " mean: 0.63179, std: 0.16165, params: {'class_weight': None, 'C': 1000},\n",
       " mean: 0.63909, std: 0.15264, params: {'class_weight': 'balanced', 'C': 1000},\n",
       " mean: 0.63179, std: 0.16165, params: {'class_weight': None, 'C': 100},\n",
       " mean: 0.63909, std: 0.15264, params: {'class_weight': 'balanced', 'C': 100},\n",
       " mean: 0.63179, std: 0.16165, params: {'class_weight': None, 'C': 10},\n",
       " mean: 0.63909, std: 0.15264, params: {'class_weight': 'balanced', 'C': 10},\n",
       " mean: 0.63179, std: 0.16165, params: {'class_weight': None, 'C': 1},\n",
       " mean: 0.63179, std: 0.16165, params: {'class_weight': 'balanced', 'C': 1},\n",
       " mean: 0.63509, std: 0.10401, params: {'class_weight': None, 'C': 0.1},\n",
       " mean: 0.63179, std: 0.16165, params: {'class_weight': 'balanced', 'C': 0.1},\n",
       " mean: 0.65534, std: 0.15111, params: {'class_weight': None, 'C': 0.01},\n",
       " mean: 0.57409, std: 0.18852, params: {'class_weight': 'balanced', 'C': 0.01},\n",
       " mean: 0.64630, std: 0.15674, params: {'class_weight': None, 'C': 0.001},\n",
       " mean: 0.41826, std: 0.20318, params: {'class_weight': 'balanced', 'C': 0.001},\n",
       " mean: 0.64549, std: 0.15745, params: {'class_weight': None, 'C': 0.0001},\n",
       " mean: 0.36404, std: 0.16594, params: {'class_weight': 'balanced', 'C': 0.0001}]"
      ]
     },
     "execution_count": 32,
     "metadata": {},
     "output_type": "execute_result"
    }
   ],
   "source": [
    "\n",
    "won_gs.fit(feature_set, opportunities.is__won)\n",
    "won_gs.grid_scores_\n"
   ]
  },
  {
   "cell_type": "code",
   "execution_count": 33,
   "metadata": {
    "collapsed": false
   },
   "outputs": [
    {
     "name": "stdout",
     "output_type": "stream",
     "text": [
      "LogisticRegression(C=0.01, class_weight=None, dual=False, fit_intercept=True,\n",
      "          intercept_scaling=1, max_iter=100, multi_class='ovr', n_jobs=1,\n",
      "          penalty='l2', random_state=None, solver='liblinear', tol=0.0001,\n",
      "          verbose=0, warm_start=False)\n",
      "{'class_weight': None, 'C': 0.01}\n"
     ]
    }
   ],
   "source": [
    "print(won_gs.best_estimator_)\n",
    "print(won_gs.best_params_)"
   ]
  },
  {
   "cell_type": "code",
   "execution_count": 34,
   "metadata": {
    "collapsed": false
   },
   "outputs": [
    {
     "data": {
      "text/plain": [
       "0.6553374807559591"
      ]
     },
     "execution_count": 34,
     "metadata": {},
     "output_type": "execute_result"
    }
   ],
   "source": [
    "won_gs.best_score_"
   ]
  },
  {
   "cell_type": "markdown",
   "metadata": {},
   "source": [
    "<h1>With Livecycle Included</h1>"
   ]
  },
  {
   "cell_type": "markdown",
   "metadata": {},
   "source": [
    "<h2> Cornish </h2>"
   ]
  },
  {
   "cell_type": "code",
   "execution_count": 37,
   "metadata": {
    "collapsed": false
   },
   "outputs": [],
   "source": [
    "from sklearn import grid_search, cross_validation\n",
    "from sklearn.linear_model import LogisticRegression\n",
    "\n",
    "\n",
    "feature_set = opportunities[['Estimated_Contract_Value','forecast__Commit','_sales_rep__Cornish',\n",
    "                             'forecast__Pipeline','forecast__Best Case','total_livecycle']]\n",
    "won_gs = grid_search.GridSearchCV(\n",
    "    estimator=LogisticRegression(),\n",
    "    param_grid={'C': [10**-i for i in range(-5, 5)], 'class_weight': [None, 'balanced']},\n",
    "    cv=cross_validation.KFold(n=len(opportunities), n_folds=7),\n",
    "    scoring='roc_auc'\n",
    ")"
   ]
  },
  {
   "cell_type": "code",
   "execution_count": 38,
   "metadata": {
    "collapsed": false
   },
   "outputs": [
    {
     "data": {
      "text/plain": [
       "[mean: 0.80615, std: 0.11380, params: {'class_weight': None, 'C': 100000},\n",
       " mean: 0.81972, std: 0.10541, params: {'class_weight': 'balanced', 'C': 100000},\n",
       " mean: 0.80615, std: 0.11380, params: {'class_weight': None, 'C': 10000},\n",
       " mean: 0.81972, std: 0.10541, params: {'class_weight': 'balanced', 'C': 10000},\n",
       " mean: 0.80615, std: 0.11380, params: {'class_weight': None, 'C': 1000},\n",
       " mean: 0.81972, std: 0.10541, params: {'class_weight': 'balanced', 'C': 1000},\n",
       " mean: 0.80615, std: 0.11380, params: {'class_weight': None, 'C': 100},\n",
       " mean: 0.81785, std: 0.10441, params: {'class_weight': 'balanced', 'C': 100},\n",
       " mean: 0.80615, std: 0.11380, params: {'class_weight': None, 'C': 10},\n",
       " mean: 0.81785, std: 0.10441, params: {'class_weight': 'balanced', 'C': 10},\n",
       " mean: 0.81098, std: 0.11536, params: {'class_weight': None, 'C': 1},\n",
       " mean: 0.81542, std: 0.10602, params: {'class_weight': 'balanced', 'C': 1},\n",
       " mean: 0.76499, std: 0.10061, params: {'class_weight': None, 'C': 0.1},\n",
       " mean: 0.79945, std: 0.11372, params: {'class_weight': 'balanced', 'C': 0.1},\n",
       " mean: 0.49421, std: 0.08971, params: {'class_weight': None, 'C': 0.01},\n",
       " mean: 0.74981, std: 0.11619, params: {'class_weight': 'balanced', 'C': 0.01},\n",
       " mean: 0.45468, std: 0.10119, params: {'class_weight': None, 'C': 0.001},\n",
       " mean: 0.71712, std: 0.11252, params: {'class_weight': 'balanced', 'C': 0.001},\n",
       " mean: 0.45612, std: 0.10328, params: {'class_weight': None, 'C': 0.0001},\n",
       " mean: 0.71000, std: 0.11340, params: {'class_weight': 'balanced', 'C': 0.0001}]"
      ]
     },
     "execution_count": 38,
     "metadata": {},
     "output_type": "execute_result"
    }
   ],
   "source": [
    "won_gs.fit(feature_set, opportunities.is__won)\n",
    "won_gs.grid_scores_"
   ]
  },
  {
   "cell_type": "code",
   "execution_count": 408,
   "metadata": {
    "collapsed": false
   },
   "outputs": [
    {
     "name": "stdout",
     "output_type": "stream",
     "text": [
      "LogisticRegression(C=100000, class_weight='balanced', dual=False,\n",
      "          fit_intercept=True, intercept_scaling=1, max_iter=100,\n",
      "          multi_class='ovr', n_jobs=1, penalty='l2', random_state=None,\n",
      "          solver='liblinear', tol=0.0001, verbose=0, warm_start=False)\n",
      "{'C': 100000, 'class_weight': 'balanced'}\n"
     ]
    }
   ],
   "source": [
    "print(won_gs.best_estimator_)\n",
    "print(won_gs.best_params_)"
   ]
  },
  {
   "cell_type": "code",
   "execution_count": 39,
   "metadata": {
    "collapsed": false
   },
   "outputs": [
    {
     "data": {
      "text/plain": [
       "0.81971874701385561"
      ]
     },
     "execution_count": 39,
     "metadata": {},
     "output_type": "execute_result"
    }
   ],
   "source": [
    "# With Total Livecycle included.\n",
    "won_gs.best_score_"
   ]
  },
  {
   "cell_type": "code",
   "execution_count": 46,
   "metadata": {
    "collapsed": true
   },
   "outputs": [],
   "source": [
    "from sklearn import grid_search, cross_validation\n",
    "from sklearn.linear_model import LogisticRegression\n",
    "\n",
    "\n",
    "feature_set = opportunities[['Estimated_Contract_Value','forecast__Commit','_sales_rep__Hughes','forecast__Pipeline',\n",
    "                             'forecast__Best Case','total_livecycle']]\n",
    "won_gs = grid_search.GridSearchCV(\n",
    "    estimator=LogisticRegression(),\n",
    "    param_grid={'C': [10**-i for i in range(-5, 5)], 'class_weight': [None, 'balanced']},\n",
    "    cv=cross_validation.KFold(n=len(opportunities), n_folds=7),\n",
    "    scoring='roc_auc'\n",
    ")"
   ]
  },
  {
   "cell_type": "code",
   "execution_count": 47,
   "metadata": {
    "collapsed": false
   },
   "outputs": [
    {
     "data": {
      "text/plain": [
       "[mean: 0.79453, std: 0.11945, params: {'class_weight': None, 'C': 100000},\n",
       " mean: 0.81388, std: 0.11562, params: {'class_weight': 'balanced', 'C': 100000},\n",
       " mean: 0.79453, std: 0.11945, params: {'class_weight': None, 'C': 10000},\n",
       " mean: 0.81388, std: 0.11562, params: {'class_weight': 'balanced', 'C': 10000},\n",
       " mean: 0.79453, std: 0.11945, params: {'class_weight': None, 'C': 1000},\n",
       " mean: 0.81388, std: 0.11562, params: {'class_weight': 'balanced', 'C': 1000},\n",
       " mean: 0.79453, std: 0.11945, params: {'class_weight': None, 'C': 100},\n",
       " mean: 0.81388, std: 0.11562, params: {'class_weight': 'balanced', 'C': 100},\n",
       " mean: 0.79367, std: 0.11976, params: {'class_weight': None, 'C': 10},\n",
       " mean: 0.81267, std: 0.11211, params: {'class_weight': 'balanced', 'C': 10},\n",
       " mean: 0.78951, std: 0.14213, params: {'class_weight': None, 'C': 1},\n",
       " mean: 0.81645, std: 0.11065, params: {'class_weight': 'balanced', 'C': 1},\n",
       " mean: 0.75056, std: 0.16608, params: {'class_weight': None, 'C': 0.1},\n",
       " mean: 0.81963, std: 0.09560, params: {'class_weight': 'balanced', 'C': 0.1},\n",
       " mean: 0.48815, std: 0.10770, params: {'class_weight': None, 'C': 0.01},\n",
       " mean: 0.75888, std: 0.11303, params: {'class_weight': 'balanced', 'C': 0.01},\n",
       " mean: 0.45218, std: 0.10424, params: {'class_weight': None, 'C': 0.001},\n",
       " mean: 0.71591, std: 0.10985, params: {'class_weight': 'balanced', 'C': 0.001},\n",
       " mean: 0.45612, std: 0.10328, params: {'class_weight': None, 'C': 0.0001},\n",
       " mean: 0.71000, std: 0.11340, params: {'class_weight': 'balanced', 'C': 0.0001}]"
      ]
     },
     "execution_count": 47,
     "metadata": {},
     "output_type": "execute_result"
    }
   ],
   "source": [
    "won_gs.fit(feature_set, opportunities.is__won)\n",
    "won_gs.grid_scores_"
   ]
  },
  {
   "cell_type": "code",
   "execution_count": 48,
   "metadata": {
    "collapsed": false,
    "scrolled": true
   },
   "outputs": [
    {
     "name": "stdout",
     "output_type": "stream",
     "text": [
      "LogisticRegression(C=0.1, class_weight='balanced', dual=False,\n",
      "          fit_intercept=True, intercept_scaling=1, max_iter=100,\n",
      "          multi_class='ovr', n_jobs=1, penalty='l2', random_state=None,\n",
      "          solver='liblinear', tol=0.0001, verbose=0, warm_start=False)\n",
      "{'class_weight': 'balanced', 'C': 0.1}\n"
     ]
    }
   ],
   "source": [
    "print(won_gs.best_estimator_)\n",
    "print(won_gs.best_params_)"
   ]
  },
  {
   "cell_type": "markdown",
   "metadata": {},
   "source": [
    "<h3>Best Score</h3>"
   ]
  },
  {
   "cell_type": "code",
   "execution_count": 50,
   "metadata": {
    "collapsed": false
   },
   "outputs": [
    {
     "data": {
      "text/plain": [
       "0.81963341628178565"
      ]
     },
     "execution_count": 50,
     "metadata": {},
     "output_type": "execute_result"
    }
   ],
   "source": [
    "# With Hughes included and Total Livescycle included.\n",
    "won_gs.best_score_"
   ]
  },
  {
   "cell_type": "markdown",
   "metadata": {},
   "source": [
    "<h2> Reyna </h2>"
   ]
  },
  {
   "cell_type": "code",
   "execution_count": 54,
   "metadata": {
    "collapsed": true
   },
   "outputs": [],
   "source": [
    "from sklearn import grid_search, cross_validation\n",
    "from sklearn.linear_model import LogisticRegression\n",
    "\n",
    "\n",
    "feature_set = opportunities[['Estimated_Contract_Value','forecast__Commit','_sales_rep__Reyna','forecast__Pipeline',\n",
    "                             'forecast__Best Case','total_livecycle']]\n",
    "won_gs = grid_search.GridSearchCV(\n",
    "    estimator=LogisticRegression(),\n",
    "    param_grid={'C': [10**-i for i in range(-5, 5)], 'class_weight': [None, 'balanced']},\n",
    "    cv=cross_validation.KFold(n=len(opportunities), n_folds=7),\n",
    "    scoring='roc_auc'\n",
    ")"
   ]
  },
  {
   "cell_type": "code",
   "execution_count": 55,
   "metadata": {
    "collapsed": false
   },
   "outputs": [
    {
     "data": {
      "text/plain": [
       "[mean: 0.78406, std: 0.11497, params: {'class_weight': None, 'C': 100000},\n",
       " mean: 0.80744, std: 0.10335, params: {'class_weight': 'balanced', 'C': 100000},\n",
       " mean: 0.78406, std: 0.11497, params: {'class_weight': None, 'C': 10000},\n",
       " mean: 0.80744, std: 0.10335, params: {'class_weight': 'balanced', 'C': 10000},\n",
       " mean: 0.78406, std: 0.11497, params: {'class_weight': None, 'C': 1000},\n",
       " mean: 0.80744, std: 0.10335, params: {'class_weight': 'balanced', 'C': 1000},\n",
       " mean: 0.78406, std: 0.11497, params: {'class_weight': None, 'C': 100},\n",
       " mean: 0.80744, std: 0.10335, params: {'class_weight': 'balanced', 'C': 100},\n",
       " mean: 0.78406, std: 0.11497, params: {'class_weight': None, 'C': 10},\n",
       " mean: 0.80744, std: 0.10335, params: {'class_weight': 'balanced', 'C': 10},\n",
       " mean: 0.79059, std: 0.11432, params: {'class_weight': None, 'C': 1},\n",
       " mean: 0.80623, std: 0.10297, params: {'class_weight': 'balanced', 'C': 1},\n",
       " mean: 0.73148, std: 0.11107, params: {'class_weight': None, 'C': 0.1},\n",
       " mean: 0.79306, std: 0.11899, params: {'class_weight': 'balanced', 'C': 0.1},\n",
       " mean: 0.48163, std: 0.09961, params: {'class_weight': None, 'C': 0.01},\n",
       " mean: 0.74859, std: 0.12439, params: {'class_weight': 'balanced', 'C': 0.01},\n",
       " mean: 0.45218, std: 0.10424, params: {'class_weight': None, 'C': 0.001},\n",
       " mean: 0.71591, std: 0.10985, params: {'class_weight': 'balanced', 'C': 0.001},\n",
       " mean: 0.45612, std: 0.10328, params: {'class_weight': None, 'C': 0.0001},\n",
       " mean: 0.71000, std: 0.11340, params: {'class_weight': 'balanced', 'C': 0.0001}]"
      ]
     },
     "execution_count": 55,
     "metadata": {},
     "output_type": "execute_result"
    }
   ],
   "source": [
    "won_gs.fit(feature_set, opportunities.is__won)\n",
    "won_gs.grid_scores_"
   ]
  },
  {
   "cell_type": "code",
   "execution_count": 56,
   "metadata": {
    "collapsed": false
   },
   "outputs": [
    {
     "name": "stdout",
     "output_type": "stream",
     "text": [
      "LogisticRegression(C=100000, class_weight='balanced', dual=False,\n",
      "          fit_intercept=True, intercept_scaling=1, max_iter=100,\n",
      "          multi_class='ovr', n_jobs=1, penalty='l2', random_state=None,\n",
      "          solver='liblinear', tol=0.0001, verbose=0, warm_start=False)\n",
      "{'class_weight': 'balanced', 'C': 100000}\n"
     ]
    }
   ],
   "source": [
    "print(won_gs.best_estimator_)\n",
    "print(won_gs.best_params_)"
   ]
  },
  {
   "cell_type": "markdown",
   "metadata": {},
   "source": [
    "<h3>Best Score </h3>"
   ]
  },
  {
   "cell_type": "code",
   "execution_count": 427,
   "metadata": {
    "collapsed": false
   },
   "outputs": [
    {
     "data": {
      "text/plain": [
       "0.80744312589584322"
      ]
     },
     "execution_count": 427,
     "metadata": {},
     "output_type": "execute_result"
    }
   ],
   "source": [
    "# With Reyna included and Total Livescycle included.\n",
    "won_gs.best_score_"
   ]
  },
  {
   "cell_type": "markdown",
   "metadata": {},
   "source": [
    "<h2> Rademacher </h2>"
   ]
  },
  {
   "cell_type": "code",
   "execution_count": 57,
   "metadata": {
    "collapsed": true
   },
   "outputs": [],
   "source": [
    "from sklearn import grid_search, cross_validation\n",
    "from sklearn.linear_model import LogisticRegression\n",
    "\n",
    "\n",
    "feature_set = opportunities[['Estimated_Contract_Value','forecast__Commit','_sales_rep__Rademacher','forecast__Pipeline','forecast__Best Case','total_livecycle']]\n",
    "won_gs = grid_search.GridSearchCV(\n",
    "    estimator=LogisticRegression(),\n",
    "    param_grid={'C': [10**-i for i in range(-5, 5)], 'class_weight': [None, 'balanced']},\n",
    "    cv=cross_validation.KFold(n=len(opportunities), n_folds=7),\n",
    "    scoring='roc_auc'\n",
    ")"
   ]
  },
  {
   "cell_type": "code",
   "execution_count": 58,
   "metadata": {
    "collapsed": false
   },
   "outputs": [
    {
     "data": {
      "text/plain": [
       "[mean: 0.81924, std: 0.11510, params: {'class_weight': None, 'C': 100000},\n",
       " mean: 0.83958, std: 0.09581, params: {'class_weight': 'balanced', 'C': 100000},\n",
       " mean: 0.81924, std: 0.11510, params: {'class_weight': None, 'C': 10000},\n",
       " mean: 0.83958, std: 0.09581, params: {'class_weight': 'balanced', 'C': 10000},\n",
       " mean: 0.81924, std: 0.11510, params: {'class_weight': None, 'C': 1000},\n",
       " mean: 0.83958, std: 0.09581, params: {'class_weight': 'balanced', 'C': 1000},\n",
       " mean: 0.81924, std: 0.11510, params: {'class_weight': None, 'C': 100},\n",
       " mean: 0.83958, std: 0.09581, params: {'class_weight': 'balanced', 'C': 100},\n",
       " mean: 0.81924, std: 0.11510, params: {'class_weight': None, 'C': 10},\n",
       " mean: 0.83836, std: 0.09759, params: {'class_weight': 'balanced', 'C': 10},\n",
       " mean: 0.81165, std: 0.12926, params: {'class_weight': None, 'C': 1},\n",
       " mean: 0.82825, std: 0.11346, params: {'class_weight': 'balanced', 'C': 1},\n",
       " mean: 0.74736, std: 0.12507, params: {'class_weight': None, 'C': 0.1},\n",
       " mean: 0.81551, std: 0.11433, params: {'class_weight': 'balanced', 'C': 0.1},\n",
       " mean: 0.47793, std: 0.09659, params: {'class_weight': None, 'C': 0.01},\n",
       " mean: 0.74194, std: 0.12621, params: {'class_weight': 'balanced', 'C': 0.01},\n",
       " mean: 0.45218, std: 0.10424, params: {'class_weight': None, 'C': 0.001},\n",
       " mean: 0.71446, std: 0.11077, params: {'class_weight': 'balanced', 'C': 0.001},\n",
       " mean: 0.45612, std: 0.10328, params: {'class_weight': None, 'C': 0.0001},\n",
       " mean: 0.71000, std: 0.11340, params: {'class_weight': 'balanced', 'C': 0.0001}]"
      ]
     },
     "execution_count": 58,
     "metadata": {},
     "output_type": "execute_result"
    }
   ],
   "source": [
    "won_gs.fit(feature_set, opportunities.is__won)\n",
    "won_gs.grid_scores_"
   ]
  },
  {
   "cell_type": "code",
   "execution_count": 59,
   "metadata": {
    "collapsed": false
   },
   "outputs": [
    {
     "name": "stdout",
     "output_type": "stream",
     "text": [
      "LogisticRegression(C=100000, class_weight='balanced', dual=False,\n",
      "          fit_intercept=True, intercept_scaling=1, max_iter=100,\n",
      "          multi_class='ovr', n_jobs=1, penalty='l2', random_state=None,\n",
      "          solver='liblinear', tol=0.0001, verbose=0, warm_start=False)\n",
      "{'class_weight': 'balanced', 'C': 100000}\n"
     ]
    }
   ],
   "source": [
    "print(won_gs.best_estimator_)\n",
    "print(won_gs.best_params_)"
   ]
  },
  {
   "cell_type": "markdown",
   "metadata": {},
   "source": [
    "<h3> Best Score </h3>"
   ]
  },
  {
   "cell_type": "code",
   "execution_count": 60,
   "metadata": {
    "collapsed": false
   },
   "outputs": [
    {
     "data": {
      "text/plain": [
       "0.83958104594680671"
      ]
     },
     "execution_count": 60,
     "metadata": {},
     "output_type": "execute_result"
    }
   ],
   "source": [
    "# With Reyna included and Total Livescycle included.\n",
    "won_gs.best_score_"
   ]
  },
  {
   "cell_type": "code",
   "execution_count": 75,
   "metadata": {
    "collapsed": false
   },
   "outputs": [],
   "source": [
    "import os\n",
    "import numpy as np\n",
    "import pandas as pd\n",
    "import matplotlib.pyplot as plt\n",
    "import re\n",
    "from sklearn import linear_model, cross_validation, grid_search\n",
    "\n",
    "y = opportunities.is__won\n"
   ]
  },
  {
   "cell_type": "markdown",
   "metadata": {},
   "source": [
    "## Comparing All the Sales Reps"
   ]
  },
  {
   "cell_type": "code",
   "execution_count": 71,
   "metadata": {
    "collapsed": false
   },
   "outputs": [
    {
     "name": "stdout",
     "output_type": "stream",
     "text": [
      "0.83\n",
      "0.815\n"
     ]
    }
   ],
   "source": [
    "X = opportunities[ ['Estimated_Contract_Value','forecast__Commit','_sales_rep__Cornish','_sales_rep__Rademacher',\n",
    "                    '_sales_rep__Hughes','_sales_rep__Reyna','_sales_rep__Veeravalli','forecast__Pipeline',\n",
    "                    'forecast__Best Case','total_livecycle'] ]\n",
    "y = opportunities.is__won\n",
    "model = linear_model.LogisticRegression()\n",
    "model = model.fit(X,y)\n",
    "\n",
    "print( model.score(X,y) )\n",
    "print( y.mean() )"
   ]
  },
  {
   "cell_type": "code",
   "execution_count": 76,
   "metadata": {
    "collapsed": false
   },
   "outputs": [
    {
     "data": {
      "text/html": [
       "<div>\n",
       "<table border=\"1\" class=\"dataframe\">\n",
       "  <thead>\n",
       "    <tr style=\"text-align: right;\">\n",
       "      <th></th>\n",
       "      <th>0</th>\n",
       "      <th>1</th>\n",
       "    </tr>\n",
       "  </thead>\n",
       "  <tbody>\n",
       "    <tr>\n",
       "      <th>0</th>\n",
       "      <td>Estimated_Contract_Value</td>\n",
       "      <td>[-1.02698789093e-05]</td>\n",
       "    </tr>\n",
       "    <tr>\n",
       "      <th>1</th>\n",
       "      <td>forecast__Commit</td>\n",
       "      <td>[1.77140620675]</td>\n",
       "    </tr>\n",
       "    <tr>\n",
       "      <th>2</th>\n",
       "      <td>_sales_rep__Cornish</td>\n",
       "      <td>[1.44835527785]</td>\n",
       "    </tr>\n",
       "    <tr>\n",
       "      <th>3</th>\n",
       "      <td>_sales_rep__Rademacher</td>\n",
       "      <td>[0.47462284206]</td>\n",
       "    </tr>\n",
       "    <tr>\n",
       "      <th>4</th>\n",
       "      <td>_sales_rep__Hughes</td>\n",
       "      <td>[1.02101574954]</td>\n",
       "    </tr>\n",
       "    <tr>\n",
       "      <th>5</th>\n",
       "      <td>_sales_rep__Reyna</td>\n",
       "      <td>[-0.435672575873]</td>\n",
       "    </tr>\n",
       "    <tr>\n",
       "      <th>6</th>\n",
       "      <td>_sales_rep__Veeravalli</td>\n",
       "      <td>[-0.65368815925]</td>\n",
       "    </tr>\n",
       "    <tr>\n",
       "      <th>7</th>\n",
       "      <td>forecast__Pipeline</td>\n",
       "      <td>[-0.406169067544]</td>\n",
       "    </tr>\n",
       "    <tr>\n",
       "      <th>8</th>\n",
       "      <td>forecast__Best Case</td>\n",
       "      <td>[0.317354622867]</td>\n",
       "    </tr>\n",
       "    <tr>\n",
       "      <th>9</th>\n",
       "      <td>total_livecycle</td>\n",
       "      <td>[-0.00925932353311]</td>\n",
       "    </tr>\n",
       "  </tbody>\n",
       "</table>\n",
       "</div>"
      ],
      "text/plain": [
       "                          0                     1\n",
       "0  Estimated_Contract_Value  [-1.02698789093e-05]\n",
       "1          forecast__Commit       [1.77140620675]\n",
       "2       _sales_rep__Cornish       [1.44835527785]\n",
       "3    _sales_rep__Rademacher       [0.47462284206]\n",
       "4        _sales_rep__Hughes       [1.02101574954]\n",
       "5         _sales_rep__Reyna     [-0.435672575873]\n",
       "6    _sales_rep__Veeravalli      [-0.65368815925]\n",
       "7        forecast__Pipeline     [-0.406169067544]\n",
       "8       forecast__Best Case      [0.317354622867]\n",
       "9           total_livecycle   [-0.00925932353311]"
      ]
     },
     "execution_count": 76,
     "metadata": {},
     "output_type": "execute_result"
    }
   ],
   "source": [
    "pd.DataFrame(list(zip(X.columns, np.transpose(model.coef_))))\n"
   ]
  },
  {
   "cell_type": "markdown",
   "metadata": {},
   "source": [
    "<h2>Test Opportunity: $5,000 Estimated Value, Forcasted as 'Pipeline', 30 Day Livecycle</h2>"
   ]
  },
  {
   "cell_type": "markdown",
   "metadata": {},
   "source": [
    "<h3>Cornish</h3>"
   ]
  },
  {
   "cell_type": "code",
   "execution_count": 81,
   "metadata": {
    "collapsed": false
   },
   "outputs": [
    {
     "name": "stdout",
     "output_type": "stream",
     "text": [
      "Classes (Is Won Value) [ 0.  1.]\n",
      "[[ 0.07594333  0.92405667]]\n"
     ]
    }
   ],
   "source": [
    "# $5,000 Opportunity with Cornish for Sales Rep.\n",
    "a = np.array( [ 5000, 0, 1, 0, 0, 0, 0, 1, 0, 30] )\n",
    "print( \"Classes (Is Won Value) %s\" % (model.classes_))\n",
    "print( model.predict_proba(a.reshape(1,-1)) )"
   ]
  },
  {
   "cell_type": "markdown",
   "metadata": {},
   "source": [
    "<h3>Rademacher</h3>"
   ]
  },
  {
   "cell_type": "code",
   "execution_count": 82,
   "metadata": {
    "collapsed": false
   },
   "outputs": [
    {
     "data": {
      "text/plain": [
       "array([[ 0.17871857,  0.82128143]])"
      ]
     },
     "execution_count": 82,
     "metadata": {},
     "output_type": "execute_result"
    }
   ],
   "source": [
    "# $5,000 Opportunity with Rademacher for Sales Rep.\n",
    "a = np.array( [ 5000, 0, 0, 1, 0, 0, 0, 1, 0, 30] )\n",
    "model.predict_proba(a.reshape(1,-1))"
   ]
  },
  {
   "cell_type": "markdown",
   "metadata": {},
   "source": [
    "<h3>Hughes</h3>"
   ]
  },
  {
   "cell_type": "code",
   "execution_count": 83,
   "metadata": {
    "collapsed": false
   },
   "outputs": [
    {
     "data": {
      "text/plain": [
       "array([[ 0.11190321,  0.88809679]])"
      ]
     },
     "execution_count": 83,
     "metadata": {},
     "output_type": "execute_result"
    }
   ],
   "source": [
    "# $5,000 Opportunity with Hughes for Sales Rep.\n",
    "a = np.array( [ 5000, 0, 0, 0, 1, 0, 0, 1, 0, 30] )\n",
    "model.predict_proba(a.reshape(1,-1))"
   ]
  },
  {
   "cell_type": "markdown",
   "metadata": {},
   "source": [
    "<h3>Reyna</h3>"
   ]
  },
  {
   "cell_type": "code",
   "execution_count": 84,
   "metadata": {
    "collapsed": false
   },
   "outputs": [
    {
     "data": {
      "text/plain": [
       "array([[ 0.35097458,  0.64902542]])"
      ]
     },
     "execution_count": 84,
     "metadata": {},
     "output_type": "execute_result"
    }
   ],
   "source": [
    "# $5,000 Opportunity with Reyna for Sales Rep.\n",
    "a = np.array( [ 5000, 0, 0, 0, 0, 1, 0, 1, 0, 30] )\n",
    "model.predict_proba(a.reshape(1,-1))"
   ]
  },
  {
   "cell_type": "markdown",
   "metadata": {},
   "source": [
    "<h3>Veeravalli</h3>"
   ]
  },
  {
   "cell_type": "code",
   "execution_count": 86,
   "metadata": {
    "collapsed": false
   },
   "outputs": [
    {
     "data": {
      "text/plain": [
       "array([[ 0.40209524,  0.59790476]])"
      ]
     },
     "execution_count": 86,
     "metadata": {},
     "output_type": "execute_result"
    }
   ],
   "source": [
    "# $5,000 Opportunity with Veeravalli for Sales Rep.\n",
    "a = np.array( [ 5000, 0, 0, 0, 0, 0, 1, 1, 0, 30] )\n",
    "model.predict_proba(a.reshape(1,-1))"
   ]
  },
  {
   "cell_type": "code",
   "execution_count": null,
   "metadata": {
    "collapsed": true
   },
   "outputs": [],
   "source": []
  }
 ],
 "metadata": {
  "kernelspec": {
   "display_name": "Python 3",
   "language": "python",
   "name": "python3"
  },
  "language_info": {
   "codemirror_mode": {
    "name": "ipython",
    "version": 3
   },
   "file_extension": ".py",
   "mimetype": "text/x-python",
   "name": "python",
   "nbconvert_exporter": "python",
   "pygments_lexer": "ipython3",
   "version": "3.5.1"
  }
 },
 "nbformat": 4,
 "nbformat_minor": 0
}
