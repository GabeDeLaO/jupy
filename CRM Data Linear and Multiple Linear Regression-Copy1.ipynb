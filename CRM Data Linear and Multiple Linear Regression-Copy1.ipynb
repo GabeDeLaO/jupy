{
 "cells": [
  {
   "cell_type": "code",
   "execution_count": 1,
   "metadata": {
    "collapsed": false
   },
   "outputs": [],
   "source": [
    "import pandas as pd\n",
    "import matplotlib.pyplot as plt\n",
    "%matplotlib inline"
   ]
  },
  {
   "cell_type": "code",
   "execution_count": 2,
   "metadata": {
    "collapsed": false
   },
   "outputs": [
    {
     "data": {
      "text/html": [
       "<div>\n",
       "<table border=\"1\" class=\"dataframe\">\n",
       "  <thead>\n",
       "    <tr style=\"text-align: right;\">\n",
       "      <th></th>\n",
       "      <th>ClientCompany</th>\n",
       "      <th>ClientCompanyName</th>\n",
       "      <th>FirstDemoDate</th>\n",
       "      <th>PresentationDate</th>\n",
       "      <th>CloseDate</th>\n",
       "      <th>HourlyRateForImplementationCost</th>\n",
       "      <th>EstimatedContractValue</th>\n",
       "      <th>CalculatedContractValue</th>\n",
       "      <th>CalculatedImplementationCost</th>\n",
       "      <th>CalculatedTrainingCost</th>\n",
       "      <th>...</th>\n",
       "      <th>StaffRoleType</th>\n",
       "      <th>Integration</th>\n",
       "      <th>FirmType</th>\n",
       "      <th>CurrentlyUsingCompetitor</th>\n",
       "      <th>MainCosentialUsage</th>\n",
       "      <th>PrimaryCategories</th>\n",
       "      <th>FDCConnection</th>\n",
       "      <th>FirmSize</th>\n",
       "      <th>ReferenceUsed</th>\n",
       "      <th>CRMLicenseCost.1</th>\n",
       "    </tr>\n",
       "    <tr>\n",
       "      <th>OpportunityName</th>\n",
       "      <th></th>\n",
       "      <th></th>\n",
       "      <th></th>\n",
       "      <th></th>\n",
       "      <th></th>\n",
       "      <th></th>\n",
       "      <th></th>\n",
       "      <th></th>\n",
       "      <th></th>\n",
       "      <th></th>\n",
       "      <th></th>\n",
       "      <th></th>\n",
       "      <th></th>\n",
       "      <th></th>\n",
       "      <th></th>\n",
       "      <th></th>\n",
       "      <th></th>\n",
       "      <th></th>\n",
       "      <th></th>\n",
       "      <th></th>\n",
       "      <th></th>\n",
       "    </tr>\n",
       "  </thead>\n",
       "  <tbody>\n",
       "    <tr>\n",
       "      <th>Foothills Bridge Co</th>\n",
       "      <td>3214149</td>\n",
       "      <td>Foothills Bridge Co</td>\n",
       "      <td>NaN</td>\n",
       "      <td>NaN</td>\n",
       "      <td>2016-06-30 00:00:00.0</td>\n",
       "      <td>0.0</td>\n",
       "      <td>0.0</td>\n",
       "      <td>0.0</td>\n",
       "      <td>NaN</td>\n",
       "      <td>NaN</td>\n",
       "      <td>...</td>\n",
       "      <td>NaN</td>\n",
       "      <td>CONTACTS: Outlook</td>\n",
       "      <td>Engineering: Civil</td>\n",
       "      <td>NaN</td>\n",
       "      <td>CRM</td>\n",
       "      <td>NaN</td>\n",
       "      <td>NaN</td>\n",
       "      <td>NaN</td>\n",
       "      <td>NaN</td>\n",
       "      <td>NaN</td>\n",
       "    </tr>\n",
       "    <tr>\n",
       "      <th>Foothills Bridge Co</th>\n",
       "      <td>3214149</td>\n",
       "      <td>Foothills Bridge Co</td>\n",
       "      <td>NaN</td>\n",
       "      <td>NaN</td>\n",
       "      <td>2016-06-30 00:00:00.0</td>\n",
       "      <td>0.0</td>\n",
       "      <td>0.0</td>\n",
       "      <td>0.0</td>\n",
       "      <td>NaN</td>\n",
       "      <td>NaN</td>\n",
       "      <td>...</td>\n",
       "      <td>NaN</td>\n",
       "      <td>CONTACTS: Outlook</td>\n",
       "      <td>Engineering: Civil</td>\n",
       "      <td>NaN</td>\n",
       "      <td>Business Development</td>\n",
       "      <td>NaN</td>\n",
       "      <td>NaN</td>\n",
       "      <td>NaN</td>\n",
       "      <td>NaN</td>\n",
       "      <td>NaN</td>\n",
       "    </tr>\n",
       "    <tr>\n",
       "      <th>Foothills Bridge Co</th>\n",
       "      <td>3214149</td>\n",
       "      <td>Foothills Bridge Co</td>\n",
       "      <td>NaN</td>\n",
       "      <td>NaN</td>\n",
       "      <td>2016-06-30 00:00:00.0</td>\n",
       "      <td>0.0</td>\n",
       "      <td>0.0</td>\n",
       "      <td>0.0</td>\n",
       "      <td>NaN</td>\n",
       "      <td>NaN</td>\n",
       "      <td>...</td>\n",
       "      <td>NaN</td>\n",
       "      <td>CONTACTS: Outlook</td>\n",
       "      <td>Engineering: Civil</td>\n",
       "      <td>NaN</td>\n",
       "      <td>Marketing Management</td>\n",
       "      <td>NaN</td>\n",
       "      <td>NaN</td>\n",
       "      <td>NaN</td>\n",
       "      <td>NaN</td>\n",
       "      <td>NaN</td>\n",
       "    </tr>\n",
       "    <tr>\n",
       "      <th>Foothills Bridge Co</th>\n",
       "      <td>3214149</td>\n",
       "      <td>Foothills Bridge Co</td>\n",
       "      <td>NaN</td>\n",
       "      <td>NaN</td>\n",
       "      <td>2016-06-30 00:00:00.0</td>\n",
       "      <td>0.0</td>\n",
       "      <td>0.0</td>\n",
       "      <td>0.0</td>\n",
       "      <td>NaN</td>\n",
       "      <td>NaN</td>\n",
       "      <td>...</td>\n",
       "      <td>Marketing/Biz Dev</td>\n",
       "      <td>CONTACTS: Outlook</td>\n",
       "      <td>Engineering: Civil</td>\n",
       "      <td>NaN</td>\n",
       "      <td>CRM</td>\n",
       "      <td>NaN</td>\n",
       "      <td>NaN</td>\n",
       "      <td>NaN</td>\n",
       "      <td>NaN</td>\n",
       "      <td>NaN</td>\n",
       "    </tr>\n",
       "    <tr>\n",
       "      <th>Foothills Bridge Co</th>\n",
       "      <td>3214149</td>\n",
       "      <td>Foothills Bridge Co</td>\n",
       "      <td>NaN</td>\n",
       "      <td>NaN</td>\n",
       "      <td>2016-06-30 00:00:00.0</td>\n",
       "      <td>0.0</td>\n",
       "      <td>0.0</td>\n",
       "      <td>0.0</td>\n",
       "      <td>NaN</td>\n",
       "      <td>NaN</td>\n",
       "      <td>...</td>\n",
       "      <td>Marketing/Biz Dev</td>\n",
       "      <td>CONTACTS: Outlook</td>\n",
       "      <td>Engineering: Civil</td>\n",
       "      <td>NaN</td>\n",
       "      <td>Business Development</td>\n",
       "      <td>NaN</td>\n",
       "      <td>NaN</td>\n",
       "      <td>NaN</td>\n",
       "      <td>NaN</td>\n",
       "      <td>NaN</td>\n",
       "    </tr>\n",
       "  </tbody>\n",
       "</table>\n",
       "<p>5 rows × 42 columns</p>\n",
       "</div>"
      ],
      "text/plain": [
       "                     ClientCompany    ClientCompanyName FirstDemoDate  \\\n",
       "OpportunityName                                                         \n",
       "Foothills Bridge Co        3214149  Foothills Bridge Co           NaN   \n",
       "Foothills Bridge Co        3214149  Foothills Bridge Co           NaN   \n",
       "Foothills Bridge Co        3214149  Foothills Bridge Co           NaN   \n",
       "Foothills Bridge Co        3214149  Foothills Bridge Co           NaN   \n",
       "Foothills Bridge Co        3214149  Foothills Bridge Co           NaN   \n",
       "\n",
       "                    PresentationDate              CloseDate  \\\n",
       "OpportunityName                                               \n",
       "Foothills Bridge Co              NaN  2016-06-30 00:00:00.0   \n",
       "Foothills Bridge Co              NaN  2016-06-30 00:00:00.0   \n",
       "Foothills Bridge Co              NaN  2016-06-30 00:00:00.0   \n",
       "Foothills Bridge Co              NaN  2016-06-30 00:00:00.0   \n",
       "Foothills Bridge Co              NaN  2016-06-30 00:00:00.0   \n",
       "\n",
       "                     HourlyRateForImplementationCost  EstimatedContractValue  \\\n",
       "OpportunityName                                                                \n",
       "Foothills Bridge Co                              0.0                     0.0   \n",
       "Foothills Bridge Co                              0.0                     0.0   \n",
       "Foothills Bridge Co                              0.0                     0.0   \n",
       "Foothills Bridge Co                              0.0                     0.0   \n",
       "Foothills Bridge Co                              0.0                     0.0   \n",
       "\n",
       "                     CalculatedContractValue  CalculatedImplementationCost  \\\n",
       "OpportunityName                                                              \n",
       "Foothills Bridge Co                      0.0                           NaN   \n",
       "Foothills Bridge Co                      0.0                           NaN   \n",
       "Foothills Bridge Co                      0.0                           NaN   \n",
       "Foothills Bridge Co                      0.0                           NaN   \n",
       "Foothills Bridge Co                      0.0                           NaN   \n",
       "\n",
       "                     CalculatedTrainingCost        ...         \\\n",
       "OpportunityName                                    ...          \n",
       "Foothills Bridge Co                     NaN        ...          \n",
       "Foothills Bridge Co                     NaN        ...          \n",
       "Foothills Bridge Co                     NaN        ...          \n",
       "Foothills Bridge Co                     NaN        ...          \n",
       "Foothills Bridge Co                     NaN        ...          \n",
       "\n",
       "                         StaffRoleType        Integration            FirmType  \\\n",
       "OpportunityName                                                                 \n",
       "Foothills Bridge Co                NaN  CONTACTS: Outlook  Engineering: Civil   \n",
       "Foothills Bridge Co                NaN  CONTACTS: Outlook  Engineering: Civil   \n",
       "Foothills Bridge Co                NaN  CONTACTS: Outlook  Engineering: Civil   \n",
       "Foothills Bridge Co  Marketing/Biz Dev  CONTACTS: Outlook  Engineering: Civil   \n",
       "Foothills Bridge Co  Marketing/Biz Dev  CONTACTS: Outlook  Engineering: Civil   \n",
       "\n",
       "                     CurrentlyUsingCompetitor    MainCosentialUsage  \\\n",
       "OpportunityName                                                       \n",
       "Foothills Bridge Co                       NaN                   CRM   \n",
       "Foothills Bridge Co                       NaN  Business Development   \n",
       "Foothills Bridge Co                       NaN  Marketing Management   \n",
       "Foothills Bridge Co                       NaN                   CRM   \n",
       "Foothills Bridge Co                       NaN  Business Development   \n",
       "\n",
       "                     PrimaryCategories  FDCConnection  FirmSize  \\\n",
       "OpportunityName                                                   \n",
       "Foothills Bridge Co                NaN            NaN       NaN   \n",
       "Foothills Bridge Co                NaN            NaN       NaN   \n",
       "Foothills Bridge Co                NaN            NaN       NaN   \n",
       "Foothills Bridge Co                NaN            NaN       NaN   \n",
       "Foothills Bridge Co                NaN            NaN       NaN   \n",
       "\n",
       "                     ReferenceUsed  CRMLicenseCost.1  \n",
       "OpportunityName                                       \n",
       "Foothills Bridge Co            NaN               NaN  \n",
       "Foothills Bridge Co            NaN               NaN  \n",
       "Foothills Bridge Co            NaN               NaN  \n",
       "Foothills Bridge Co            NaN               NaN  \n",
       "Foothills Bridge Co            NaN               NaN  \n",
       "\n",
       "[5 rows x 42 columns]"
      ]
     },
     "execution_count": 2,
     "metadata": {},
     "output_type": "execute_result"
    }
   ],
   "source": [
    "data = pd.read_csv('data/export_with_names_1k.csv', index_col=0)\n",
    "data.head()"
   ]
  },
  {
   "cell_type": "code",
   "execution_count": 3,
   "metadata": {
    "collapsed": false
   },
   "outputs": [
    {
     "data": {
      "text/plain": [
       "(1000, 42)"
      ]
     },
     "execution_count": 3,
     "metadata": {},
     "output_type": "execute_result"
    }
   ],
   "source": [
    "data.shape"
   ]
  },
  {
   "cell_type": "code",
   "execution_count": 28,
   "metadata": {
    "collapsed": false
   },
   "outputs": [
    {
     "data": {
      "text/plain": [
       "<matplotlib.axes._subplots.AxesSubplot at 0x11bea6400>"
      ]
     },
     "execution_count": 28,
     "metadata": {},
     "output_type": "execute_result"
    },
    {
     "data": {
      "image/png": "[encoded data removed]",
      "text/plain": [
       "<matplotlib.figure.Figure at 0x11bfc34e0>"
      ]
     },
     "metadata": {},
     "output_type": "display_data"
    }
   ],
   "source": [
    "fig, axs = plt.subplots(1,2, sharey=True)\n",
    "data.plot(kind='scatter', x = 'iProjectProbability', y='StageTypeID', ax=axs[0], figsize=(16,8))\n",
    "data.plot(kind='scatter', x = 'iFee', y='StageTypeID', ax=axs[1])\n",
    "#data.plot(kind='scatter', x = 'DeleteRecord', y='StageTypeID', ax=axs[2])"
   ]
  },
  {
   "cell_type": "code",
   "execution_count": 39,
   "metadata": {
    "collapsed": false
   },
   "outputs": [
    {
     "name": "stdout",
     "output_type": "stream",
     "text": [
      "Intercept    1.597370\n",
      "iFee         0.000024\n",
      "dtype: float64\n",
      "                            OLS Regression Results                            \n",
      "==============================================================================\n",
      "Dep. Variable:            StageTypeID   R-squared:                       0.020\n",
      "Model:                            OLS   Adj. R-squared:                 -0.012\n",
      "Method:                 Least Squares   F-statistic:                    0.6351\n",
      "Date:                Wed, 25 May 2016   Prob (F-statistic):              0.432\n",
      "Time:                        10:32:28   Log-Likelihood:                -50.035\n",
      "No. Observations:                  33   AIC:                             104.1\n",
      "Df Residuals:                      31   BIC:                             107.1\n",
      "Df Model:                           1                                         \n",
      "Covariance Type:            nonrobust                                         \n",
      "==============================================================================\n",
      "                 coef    std err          t      P>|t|      [95.0% Conf. Int.]\n",
      "------------------------------------------------------------------------------\n",
      "Intercept      1.5974      0.341      4.691      0.000         0.903     2.292\n",
      "iFee        2.432e-05   3.05e-05      0.797      0.432     -3.79e-05  8.65e-05\n",
      "==============================================================================\n",
      "Omnibus:                       23.064   Durbin-Watson:                   2.500\n",
      "Prob(Omnibus):                  0.000   Jarque-Bera (JB):               33.382\n",
      "Skew:                           1.886   Prob(JB):                     5.64e-08\n",
      "Kurtosis:                       6.171   Cond. No.                     1.92e+04\n",
      "==============================================================================\n",
      "\n",
      "Warnings:\n",
      "[1] Standard Errors assume that the covariance matrix of the errors is correctly specified.\n",
      "[2] The condition number is large, 1.92e+04. This might indicate that there are\n",
      "strong multicollinearity or other numerical problems.\n"
     ]
    }
   ],
   "source": [
    "import statsmodels.formula.api as smf\n",
    "\n",
    "#dummies = pd.get_dummies(data['dtPresentationDate'])\n",
    "new_data = data[pd.notnull(data['dtPresentationDate'])]\n",
    "\n",
    "new_data.head()\n",
    "\n",
    "# fitted model.\n",
    "lm = smf.ols(formula='StageTypeID ~ iFee', data=new_data ).fit()\n",
    "\n",
    "print(lm.params)\n",
    "print( lm.summary() )"
   ]
  },
  {
   "cell_type": "code",
   "execution_count": 22,
   "metadata": {
    "collapsed": false
   },
   "outputs": [
    {
     "data": {
      "text/plain": [
       "array([ 9.40942557])"
      ]
     },
     "execution_count": 22,
     "metadata": {},
     "output_type": "execute_result"
    }
   ],
   "source": []
  },
  {
   "cell_type": "code",
   "execution_count": 18,
   "metadata": {
    "collapsed": false
   },
   "outputs": [
    {
     "data": {
      "text/plain": [
       "array([ 9.40942557])"
      ]
     },
     "execution_count": 18,
     "metadata": {},
     "output_type": "execute_result"
    }
   ],
   "source": []
  },
  {
   "cell_type": "code",
   "execution_count": 23,
   "metadata": {
    "collapsed": false
   },
   "outputs": [
    {
     "data": {
      "text/html": [
       "<div>\n",
       "<table border=\"1\" class=\"dataframe\">\n",
       "  <thead>\n",
       "    <tr style=\"text-align: right;\">\n",
       "      <th></th>\n",
       "      <th>TV</th>\n",
       "    </tr>\n",
       "  </thead>\n",
       "  <tbody>\n",
       "    <tr>\n",
       "      <th>0</th>\n",
       "      <td>0.7</td>\n",
       "    </tr>\n",
       "    <tr>\n",
       "      <th>1</th>\n",
       "      <td>296.4</td>\n",
       "    </tr>\n",
       "  </tbody>\n",
       "</table>\n",
       "</div>"
      ],
      "text/plain": [
       "      TV\n",
       "0    0.7\n",
       "1  296.4"
      ]
     },
     "execution_count": 23,
     "metadata": {},
     "output_type": "execute_result"
    }
   ],
   "source": []
  },
  {
   "cell_type": "code",
   "execution_count": null,
   "metadata": {
    "collapsed": false
   },
   "outputs": [],
   "source": []
  },
  {
   "cell_type": "code",
   "execution_count": null,
   "metadata": {
    "collapsed": true
   },
   "outputs": [],
   "source": []
  }
 ],
 "metadata": {
  "kernelspec": {
   "display_name": "Python 3",
   "language": "python",
   "name": "python3"
  },
  "language_info": {
   "codemirror_mode": {
    "name": "ipython",
    "version": 3
   },
   "file_extension": ".py",
   "mimetype": "text/x-python",
   "name": "python",
   "nbconvert_exporter": "python",
   "pygments_lexer": "ipython3",
   "version": "3.5.1"
  }
 },
 "nbformat": 4,
 "nbformat_minor": 0
}
