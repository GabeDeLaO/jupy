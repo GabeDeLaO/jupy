{
 "cells": [
  {
   "cell_type": "code",
   "execution_count": 30,
   "metadata": {
    "collapsed": false
   },
   "outputs": [],
   "source": [
    "import pandas as pd\n",
    "import matplotlib.pyplot as plt\n",
    "%matplotlib inline"
   ]
  },
  {
   "cell_type": "code",
   "execution_count": 31,
   "metadata": {
    "collapsed": false
   },
   "outputs": [
    {
     "data": {
      "text/html": [
       "<div>\n",
       "<table border=\"1\" class=\"dataframe\">\n",
       "  <thead>\n",
       "    <tr style=\"text-align: right;\">\n",
       "      <th></th>\n",
       "      <th>dtStartDate</th>\n",
       "      <th>dtCloseDate</th>\n",
       "      <th>iFee</th>\n",
       "      <th>iProbability</th>\n",
       "      <th>iProjectProbability</th>\n",
       "      <th>FactoredCostSTD</th>\n",
       "      <th>dtCreateDate</th>\n",
       "      <th>dtRFPDate</th>\n",
       "      <th>dtPresentationDate</th>\n",
       "      <th>iMarketBudget</th>\n",
       "      <th>...</th>\n",
       "      <th>BusinessCheck</th>\n",
       "      <th>vchCity</th>\n",
       "      <th>iStateId</th>\n",
       "      <th>vchPostalCode</th>\n",
       "      <th>iCountryId</th>\n",
       "      <th>StageID</th>\n",
       "      <th>stageName</th>\n",
       "      <th>StageTypeID</th>\n",
       "      <th>StageTypeName</th>\n",
       "      <th>DeleteRecord</th>\n",
       "    </tr>\n",
       "    <tr>\n",
       "      <th>vchProjectName</th>\n",
       "      <th></th>\n",
       "      <th></th>\n",
       "      <th></th>\n",
       "      <th></th>\n",
       "      <th></th>\n",
       "      <th></th>\n",
       "      <th></th>\n",
       "      <th></th>\n",
       "      <th></th>\n",
       "      <th></th>\n",
       "      <th></th>\n",
       "      <th></th>\n",
       "      <th></th>\n",
       "      <th></th>\n",
       "      <th></th>\n",
       "      <th></th>\n",
       "      <th></th>\n",
       "      <th></th>\n",
       "      <th></th>\n",
       "      <th></th>\n",
       "      <th></th>\n",
       "    </tr>\n",
       "  </thead>\n",
       "  <tbody>\n",
       "    <tr>\n",
       "      <th>Westco Service Company</th>\n",
       "      <td>2016-05-24 00:00:00.0</td>\n",
       "      <td>2016-06-30 00:00:00.0</td>\n",
       "      <td>0.0</td>\n",
       "      <td>0.0</td>\n",
       "      <td>100</td>\n",
       "      <td>0.0</td>\n",
       "      <td>2016-05-24 12:45:33.417</td>\n",
       "      <td>NaN</td>\n",
       "      <td>NaN</td>\n",
       "      <td>0.0</td>\n",
       "      <td>...</td>\n",
       "      <td>0</td>\n",
       "      <td>Shadow Hills</td>\n",
       "      <td>8.0</td>\n",
       "      <td>NaN</td>\n",
       "      <td>2.0</td>\n",
       "      <td>12480</td>\n",
       "      <td>002- Qualified Opp/Demo Set</td>\n",
       "      <td>1</td>\n",
       "      <td>Open</td>\n",
       "      <td>0</td>\n",
       "    </tr>\n",
       "    <tr>\n",
       "      <th>Design Collaborative Inc</th>\n",
       "      <td>2016-05-20 00:00:00.0</td>\n",
       "      <td>2016-07-31 00:00:00.0</td>\n",
       "      <td>0.0</td>\n",
       "      <td>0.0</td>\n",
       "      <td>100</td>\n",
       "      <td>0.0</td>\n",
       "      <td>2016-05-24 09:50:43.7</td>\n",
       "      <td>NaN</td>\n",
       "      <td>NaN</td>\n",
       "      <td>0.0</td>\n",
       "      <td>...</td>\n",
       "      <td>0</td>\n",
       "      <td>NaN</td>\n",
       "      <td>0.0</td>\n",
       "      <td>NaN</td>\n",
       "      <td>2.0</td>\n",
       "      <td>12480</td>\n",
       "      <td>002- Qualified Opp/Demo Set</td>\n",
       "      <td>1</td>\n",
       "      <td>Open</td>\n",
       "      <td>0</td>\n",
       "    </tr>\n",
       "    <tr>\n",
       "      <th>Endurable Building Products</th>\n",
       "      <td>NaN</td>\n",
       "      <td>NaN</td>\n",
       "      <td>0.0</td>\n",
       "      <td>0.0</td>\n",
       "      <td>100</td>\n",
       "      <td>0.0</td>\n",
       "      <td>2016-05-23 16:35:52.983</td>\n",
       "      <td>NaN</td>\n",
       "      <td>NaN</td>\n",
       "      <td>0.0</td>\n",
       "      <td>...</td>\n",
       "      <td>0</td>\n",
       "      <td>NaN</td>\n",
       "      <td>0.0</td>\n",
       "      <td>NaN</td>\n",
       "      <td>2.0</td>\n",
       "      <td>12479</td>\n",
       "      <td>001- New Opportunity</td>\n",
       "      <td>1</td>\n",
       "      <td>Open</td>\n",
       "      <td>0</td>\n",
       "    </tr>\n",
       "    <tr>\n",
       "      <th>Ironwood Construction</th>\n",
       "      <td>2016-05-23 00:00:00.0</td>\n",
       "      <td>2016-06-30 00:00:00.0</td>\n",
       "      <td>0.0</td>\n",
       "      <td>0.0</td>\n",
       "      <td>100</td>\n",
       "      <td>0.0</td>\n",
       "      <td>2016-05-23 15:04:38.52</td>\n",
       "      <td>NaN</td>\n",
       "      <td>NaN</td>\n",
       "      <td>0.0</td>\n",
       "      <td>...</td>\n",
       "      <td>0</td>\n",
       "      <td>NaN</td>\n",
       "      <td>49.0</td>\n",
       "      <td>NaN</td>\n",
       "      <td>2.0</td>\n",
       "      <td>12480</td>\n",
       "      <td>002- Qualified Opp/Demo Set</td>\n",
       "      <td>1</td>\n",
       "      <td>Open</td>\n",
       "      <td>0</td>\n",
       "    </tr>\n",
       "    <tr>\n",
       "      <th>M. A. Mortenson Company</th>\n",
       "      <td>NaN</td>\n",
       "      <td>NaN</td>\n",
       "      <td>0.0</td>\n",
       "      <td>0.0</td>\n",
       "      <td>100</td>\n",
       "      <td>0.0</td>\n",
       "      <td>2016-05-23 11:15:32.76</td>\n",
       "      <td>NaN</td>\n",
       "      <td>NaN</td>\n",
       "      <td>0.0</td>\n",
       "      <td>...</td>\n",
       "      <td>0</td>\n",
       "      <td>NaN</td>\n",
       "      <td>0.0</td>\n",
       "      <td>NaN</td>\n",
       "      <td>2.0</td>\n",
       "      <td>12479</td>\n",
       "      <td>001- New Opportunity</td>\n",
       "      <td>1</td>\n",
       "      <td>Open</td>\n",
       "      <td>0</td>\n",
       "    </tr>\n",
       "  </tbody>\n",
       "</table>\n",
       "<p>5 rows × 22 columns</p>\n",
       "</div>"
      ],
      "text/plain": [
       "                                       dtStartDate            dtCloseDate  \\\n",
       "vchProjectName                                                              \n",
       "Westco Service Company       2016-05-24 00:00:00.0  2016-06-30 00:00:00.0   \n",
       "Design Collaborative Inc     2016-05-20 00:00:00.0  2016-07-31 00:00:00.0   \n",
       "Endurable Building Products                    NaN                    NaN   \n",
       "Ironwood Construction        2016-05-23 00:00:00.0  2016-06-30 00:00:00.0   \n",
       "M. A. Mortenson Company                        NaN                    NaN   \n",
       "\n",
       "                             iFee  iProbability  iProjectProbability  \\\n",
       "vchProjectName                                                         \n",
       "Westco Service Company        0.0           0.0                  100   \n",
       "Design Collaborative Inc      0.0           0.0                  100   \n",
       "Endurable Building Products   0.0           0.0                  100   \n",
       "Ironwood Construction         0.0           0.0                  100   \n",
       "M. A. Mortenson Company       0.0           0.0                  100   \n",
       "\n",
       "                             FactoredCostSTD             dtCreateDate  \\\n",
       "vchProjectName                                                          \n",
       "Westco Service Company                   0.0  2016-05-24 12:45:33.417   \n",
       "Design Collaborative Inc                 0.0    2016-05-24 09:50:43.7   \n",
       "Endurable Building Products              0.0  2016-05-23 16:35:52.983   \n",
       "Ironwood Construction                    0.0   2016-05-23 15:04:38.52   \n",
       "M. A. Mortenson Company                  0.0   2016-05-23 11:15:32.76   \n",
       "\n",
       "                            dtRFPDate dtPresentationDate  iMarketBudget  \\\n",
       "vchProjectName                                                            \n",
       "Westco Service Company            NaN                NaN            0.0   \n",
       "Design Collaborative Inc          NaN                NaN            0.0   \n",
       "Endurable Building Products       NaN                NaN            0.0   \n",
       "Ironwood Construction             NaN                NaN            0.0   \n",
       "M. A. Mortenson Company           NaN                NaN            0.0   \n",
       "\n",
       "                                 ...       BusinessCheck       vchCity  \\\n",
       "vchProjectName                   ...                                     \n",
       "Westco Service Company           ...                   0  Shadow Hills   \n",
       "Design Collaborative Inc         ...                   0           NaN   \n",
       "Endurable Building Products      ...                   0           NaN   \n",
       "Ironwood Construction            ...                   0           NaN   \n",
       "M. A. Mortenson Company          ...                   0           NaN   \n",
       "\n",
       "                             iStateId vchPostalCode  iCountryId StageID  \\\n",
       "vchProjectName                                                            \n",
       "Westco Service Company            8.0           NaN         2.0   12480   \n",
       "Design Collaborative Inc          0.0           NaN         2.0   12480   \n",
       "Endurable Building Products       0.0           NaN         2.0   12479   \n",
       "Ironwood Construction            49.0           NaN         2.0   12480   \n",
       "M. A. Mortenson Company           0.0           NaN         2.0   12479   \n",
       "\n",
       "                                               stageName  StageTypeID  \\\n",
       "vchProjectName                                                          \n",
       "Westco Service Company       002- Qualified Opp/Demo Set            1   \n",
       "Design Collaborative Inc     002- Qualified Opp/Demo Set            1   \n",
       "Endurable Building Products         001- New Opportunity            1   \n",
       "Ironwood Construction        002- Qualified Opp/Demo Set            1   \n",
       "M. A. Mortenson Company             001- New Opportunity            1   \n",
       "\n",
       "                            StageTypeName  DeleteRecord  \n",
       "vchProjectName                                           \n",
       "Westco Service Company               Open             0  \n",
       "Design Collaborative Inc             Open             0  \n",
       "Endurable Building Products          Open             0  \n",
       "Ironwood Construction                Open             0  \n",
       "M. A. Mortenson Company              Open             0  \n",
       "\n",
       "[5 rows x 22 columns]"
      ]
     },
     "execution_count": 31,
     "metadata": {},
     "output_type": "execute_result"
    }
   ],
   "source": [
    "data = pd.read_csv('data/export_2_simplified.csv', index_col=0)\n",
    "data.head()"
   ]
  },
  {
   "cell_type": "code",
   "execution_count": 16,
   "metadata": {
    "collapsed": false
   },
   "outputs": [
    {
     "data": {
      "text/plain": [
       "(1000, 22)"
      ]
     },
     "execution_count": 16,
     "metadata": {},
     "output_type": "execute_result"
    }
   ],
   "source": [
    "data.shape"
   ]
  },
  {
   "cell_type": "code",
   "execution_count": 28,
   "metadata": {
    "collapsed": false
   },
   "outputs": [
    {
     "data": {
      "text/plain": [
       "<matplotlib.axes._subplots.AxesSubplot at 0x11bea6400>"
      ]
     },
     "execution_count": 28,
     "metadata": {},
     "output_type": "execute_result"
    },
    {
     "data": {
      "image/png": "[encoded data removed]",
      "text/plain": [
       "<matplotlib.figure.Figure at 0x11bfc34e0>"
      ]
     },
     "metadata": {},
     "output_type": "display_data"
    }
   ],
   "source": [
    "fig, axs = plt.subplots(1,2, sharey=True)\n",
    "data.plot(kind='scatter', x = 'iProjectProbability', y='StageTypeID', ax=axs[0], figsize=(16,8))\n",
    "data.plot(kind='scatter', x = 'iFee', y='StageTypeID', ax=axs[1])\n",
    "#data.plot(kind='scatter', x = 'DeleteRecord', y='StageTypeID', ax=axs[2])"
   ]
  },
  {
   "cell_type": "code",
   "execution_count": 39,
   "metadata": {
    "collapsed": false
   },
   "outputs": [
    {
     "name": "stdout",
     "output_type": "stream",
     "text": [
      "Intercept    1.597370\n",
      "iFee         0.000024\n",
      "dtype: float64\n",
      "                            OLS Regression Results                            \n",
      "==============================================================================\n",
      "Dep. Variable:            StageTypeID   R-squared:                       0.020\n",
      "Model:                            OLS   Adj. R-squared:                 -0.012\n",
      "Method:                 Least Squares   F-statistic:                    0.6351\n",
      "Date:                Wed, 25 May 2016   Prob (F-statistic):              0.432\n",
      "Time:                        10:32:28   Log-Likelihood:                -50.035\n",
      "No. Observations:                  33   AIC:                             104.1\n",
      "Df Residuals:                      31   BIC:                             107.1\n",
      "Df Model:                           1                                         \n",
      "Covariance Type:            nonrobust                                         \n",
      "==============================================================================\n",
      "                 coef    std err          t      P>|t|      [95.0% Conf. Int.]\n",
      "------------------------------------------------------------------------------\n",
      "Intercept      1.5974      0.341      4.691      0.000         0.903     2.292\n",
      "iFee        2.432e-05   3.05e-05      0.797      0.432     -3.79e-05  8.65e-05\n",
      "==============================================================================\n",
      "Omnibus:                       23.064   Durbin-Watson:                   2.500\n",
      "Prob(Omnibus):                  0.000   Jarque-Bera (JB):               33.382\n",
      "Skew:                           1.886   Prob(JB):                     5.64e-08\n",
      "Kurtosis:                       6.171   Cond. No.                     1.92e+04\n",
      "==============================================================================\n",
      "\n",
      "Warnings:\n",
      "[1] Standard Errors assume that the covariance matrix of the errors is correctly specified.\n",
      "[2] The condition number is large, 1.92e+04. This might indicate that there are\n",
      "strong multicollinearity or other numerical problems.\n"
     ]
    }
   ],
   "source": [
    "import statsmodels.formula.api as smf\n",
    "\n",
    "#dummies = pd.get_dummies(data['dtPresentationDate'])\n",
    "new_data = data[pd.notnull(data['dtPresentationDate'])]\n",
    "\n",
    "new_data.head()\n",
    "\n",
    "# fitted model.\n",
    "lm = smf.ols(formula='StageTypeID ~ iFee', data=new_data ).fit()\n",
    "\n",
    "print(lm.params)\n",
    "print( lm.summary() )"
   ]
  },
  {
   "cell_type": "code",
   "execution_count": 22,
   "metadata": {
    "collapsed": false
   },
   "outputs": [
    {
     "data": {
      "text/plain": [
       "array([ 9.40942557])"
      ]
     },
     "execution_count": 22,
     "metadata": {},
     "output_type": "execute_result"
    }
   ],
   "source": [
    "# manually. 50,000 extra spending on TV.\n",
    "7.032594 + 0.047537 * 50\n",
    "\n",
    "# using statsmodel\n",
    "X_new = pd.DataFrame({'TV':[50]})\n",
    "X_new.head()\n",
    "lm.predict(X_new)"
   ]
  },
  {
   "cell_type": "code",
   "execution_count": 18,
   "metadata": {
    "collapsed": false
   },
   "outputs": [
    {
     "data": {
      "text/plain": [
       "array([ 9.40942557])"
      ]
     },
     "execution_count": 18,
     "metadata": {},
     "output_type": "execute_result"
    }
   ],
   "source": [
    "lm.predict(X_new)"
   ]
  },
  {
   "cell_type": "code",
   "execution_count": 23,
   "metadata": {
    "collapsed": false
   },
   "outputs": [
    {
     "data": {
      "text/html": [
       "<div>\n",
       "<table border=\"1\" class=\"dataframe\">\n",
       "  <thead>\n",
       "    <tr style=\"text-align: right;\">\n",
       "      <th></th>\n",
       "      <th>TV</th>\n",
       "    </tr>\n",
       "  </thead>\n",
       "  <tbody>\n",
       "    <tr>\n",
       "      <th>0</th>\n",
       "      <td>0.7</td>\n",
       "    </tr>\n",
       "    <tr>\n",
       "      <th>1</th>\n",
       "      <td>296.4</td>\n",
       "    </tr>\n",
       "  </tbody>\n",
       "</table>\n",
       "</div>"
      ],
      "text/plain": [
       "      TV\n",
       "0    0.7\n",
       "1  296.4"
      ]
     },
     "execution_count": 23,
     "metadata": {},
     "output_type": "execute_result"
    }
   ],
   "source": [
    "# least squares.\n",
    "X_new = pd.DataFrame({'TV': [data.TV.min(), data.TV.max()]})\n",
    "X_new.head()"
   ]
  },
  {
   "cell_type": "code",
   "execution_count": 24,
   "metadata": {
    "collapsed": false
   },
   "outputs": [
    {
     "data": {
      "text/plain": [
       "array([  7.0658692 ,  21.12245377])"
      ]
     },
     "execution_count": 24,
     "metadata": {},
     "output_type": "execute_result"
    }
   ],
   "source": [
    "preds = lm.predict(X_new)\n",
    "preds"
   ]
  },
  {
   "cell_type": "code",
   "execution_count": 27,
   "metadata": {
    "collapsed": false
   },
   "outputs": [
    {
     "data": {
      "text/plain": [
       "[<matplotlib.lines.Line2D at 0x11c87dac8>]"
      ]
     },
     "execution_count": 27,
     "metadata": {},
     "output_type": "execute_result"
    },
    {
     "data": {
      "image/png": "[encoded data removed]",
      "text/plain": [
       "<matplotlib.figure.Figure at 0x11c87dba8>"
      ]
     },
     "metadata": {},
     "output_type": "display_data"
    }
   ],
   "source": [
    "# plot of the observed data\n",
    "data.plot(kind='scatter', x=\"TV\", y='Sales')\n",
    "plt.plot(X_new, preds, c='red', linewidth=2)"
   ]
  },
  {
   "cell_type": "code",
   "execution_count": 28,
   "metadata": {
    "collapsed": false
   },
   "outputs": [
    {
     "data": {
      "text/html": [
       "<div>\n",
       "<table border=\"1\" class=\"dataframe\">\n",
       "  <thead>\n",
       "    <tr style=\"text-align: right;\">\n",
       "      <th></th>\n",
       "      <th>0</th>\n",
       "      <th>1</th>\n",
       "    </tr>\n",
       "  </thead>\n",
       "  <tbody>\n",
       "    <tr>\n",
       "      <th>Intercept</th>\n",
       "      <td>6.129719</td>\n",
       "      <td>7.935468</td>\n",
       "    </tr>\n",
       "    <tr>\n",
       "      <th>TV</th>\n",
       "      <td>0.042231</td>\n",
       "      <td>0.052843</td>\n",
       "    </tr>\n",
       "  </tbody>\n",
       "</table>\n",
       "</div>"
      ],
      "text/plain": [
       "                  0         1\n",
       "Intercept  6.129719  7.935468\n",
       "TV         0.042231  0.052843"
      ]
     },
     "execution_count": 28,
     "metadata": {},
     "output_type": "execute_result"
    }
   ],
   "source": [
    "# confidence intervals for the model coefficients.\n",
    "lm.conf_int()"
   ]
  },
  {
   "cell_type": "code",
   "execution_count": 29,
   "metadata": {
    "collapsed": false
   },
   "outputs": [
    {
     "data": {
      "text/plain": [
       "Intercept    1.406300e-35\n",
       "TV           1.467390e-42\n",
       "dtype: float64"
      ]
     },
     "execution_count": 29,
     "metadata": {},
     "output_type": "execute_result"
    }
   ],
   "source": [
    "# p values for the model coefficients\n",
    "lm.pvalues"
   ]
  },
  {
   "cell_type": "code",
   "execution_count": 30,
   "metadata": {
    "collapsed": false
   },
   "outputs": [
    {
     "data": {
      "text/plain": [
       "0.61187505085007099"
      ]
     },
     "execution_count": 30,
     "metadata": {},
     "output_type": "execute_result"
    }
   ],
   "source": [
    "lm.rsquared"
   ]
  },
  {
   "cell_type": "code",
   "execution_count": 31,
   "metadata": {
    "collapsed": false
   },
   "outputs": [
    {
     "data": {
      "text/plain": [
       "Intercept    2.938889\n",
       "TV           0.045765\n",
       "Radio        0.188530\n",
       "Newspaper   -0.001037\n",
       "dtype: float64"
      ]
     },
     "execution_count": 31,
     "metadata": {},
     "output_type": "execute_result"
    }
   ],
   "source": [
    "# Multiple Linear Regression\n",
    "lm = smf.ols(formula='Sales ~ TV + Radio + Newspaper', data=data).fit()\n",
    "lm.params"
   ]
  },
  {
   "cell_type": "code",
   "execution_count": null,
   "metadata": {
    "collapsed": true
   },
   "outputs": [],
   "source": []
  }
 ],
 "metadata": {
  "kernelspec": {
   "display_name": "Python 3",
   "language": "python",
   "name": "python3"
  },
  "language_info": {
   "codemirror_mode": {
    "name": "ipython",
    "version": 3
   },
   "file_extension": ".py",
   "mimetype": "text/x-python",
   "name": "python",
   "nbconvert_exporter": "python",
   "pygments_lexer": "ipython3",
   "version": "3.5.1"
  }
 },
 "nbformat": 4,
 "nbformat_minor": 0
}
